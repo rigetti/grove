{
 "cells": [
  {
   "cell_type": "markdown",
   "metadata": {},
   "source": [
    "This notebook is a brief sketch of how to use Simon's algorithm.\n",
    "We start by declaring all necessary imports."
   ]
  },
  {
   "cell_type": "code",
   "execution_count": null,
   "metadata": {},
   "outputs": [],
   "source": [
    "from collections import defaultdict\n",
    "\n",
    "import numpy as np\n",
    "from mock import patch\n",
    "\n",
    "from grove.simon.simon import Simon, create_valid_2to1_bitmap"
   ]
  },
  {
   "cell_type": "markdown",
   "metadata": {},
   "source": [
    "Simon's algorithm can be used to find the mask $m$ of a 2-to-1 periodic Boolean function defined by\n",
    "$$f(x) = f(x \\oplus m)$$\n",
    "where $\\oplus$ is the bit-wise XOR operator. To create one we can define a mask as a string and call a utility to generate a map. To assert the correct result we check it against an expected map"
   ]
  },
  {
   "cell_type": "code",
   "execution_count": null,
   "metadata": {},
   "outputs": [],
   "source": [
    "mask = '110'\n",
    "bm = create_valid_2to1_bitmap(mask, random_seed=42)\n",
    "expected_map = {\n",
    "    '000': '001',\n",
    "    '001': '101',\n",
    "    '010': '000',\n",
    "    '011': '111',\n",
    "    '100': '000',\n",
    "    '101': '111',\n",
    "    '110': '001',\n",
    "    '111': '101'\n",
    "}\n",
    "for k, v in bm.items():\n",
    "    assert v == expected_map[k]"
   ]
  },
  {
   "cell_type": "markdown",
   "metadata": {},
   "source": [
    "To understand what a 2-to-1 function is let us revert the map and collect all keys tha point to the same value. As the assertion shows all values have 2 distinct origins"
   ]
  },
  {
   "cell_type": "code",
   "execution_count": null,
   "metadata": {},
   "outputs": [],
   "source": [
    "reverse_bitmap = defaultdict(list)\n",
    "for k, v in bm.items():\n",
    "    reverse_bitmap[v].append(k)\n",
    "\n",
    "expected_reverse_bitmap = {\n",
    "    '001': ['000', '110'],\n",
    "    '101': ['001', '111'],\n",
    "    '000': ['010', '100'],\n",
    "    '111': ['011', '101']\n",
    "}\n",
    "\n",
    "for k, v in reverse_bitmap.items():\n",
    "    assert sorted(v) == sorted(expected_reverse_bitmap[k])"
   ]
  },
  {
   "cell_type": "markdown",
   "metadata": {},
   "source": [
    "To use Simon's algorithm on a Quantum Hardware we need to define the connection to the QVM or QPU. However we don't have a real connection in this notebook, so we just mock out the response. If you run this notebook, ensure to replace `cxn` with a pyQuil connection object."
   ]
  },
  {
   "cell_type": "code",
   "execution_count": null,
   "metadata": {},
   "outputs": [],
   "source": [
    "with patch(\"pyquil.api.QuantumComputer\") as qc:\n",
    "    # Need to mock multiple returns as an iterable\n",
    "    qc.run.side_effect = [\n",
    "        (np.asarray([0, 1, 1], dtype=int), ),\n",
    "        (np.asarray([1, 1, 1], dtype=int), ),\n",
    "        (np.asarray([1, 1, 1], dtype=int), ),\n",
    "        (np.asarray([1, 0, 0], dtype=int), ),\n",
    "    ]"
   ]
  },
  {
   "cell_type": "markdown",
   "metadata": {},
   "source": [
    "Now let's run Simon's algorithm. We instantiate the Simon object and then call its `find_mask` mehtod with the connection object and the 2-to-1 function whose mask we wish to find.\n",
    "Finally we assert its correctness by checking with the mask we used to generate the function"
   ]
  },
  {
   "cell_type": "code",
   "execution_count": null,
   "metadata": {},
   "outputs": [],
   "source": [
    "sa = Simon()\n",
    "found_mask = sa.find_mask(qc, bm)\n",
    "assert ''.join([str(b) for b in found_mask]) == mask, \"Found mask is not expected mask\""
   ]
  },
  {
   "cell_type": "markdown",
   "metadata": {},
   "source": [
    "If the assertion succeeded we know we found the mask and we got our result."
   ]
  }
 ],
 "metadata": {
  "kernelspec": {
   "display_name": "Python 3",
   "language": "python",
   "name": "python3"
  },
  "language_info": {
   "codemirror_mode": {
    "name": "ipython",
    "version": 3
   },
   "file_extension": ".py",
   "mimetype": "text/x-python",
   "name": "python",
   "nbconvert_exporter": "python",
   "pygments_lexer": "ipython3",
   "version": "3.6.5"
  }
 },
 "nbformat": 4,
 "nbformat_minor": 0
}
