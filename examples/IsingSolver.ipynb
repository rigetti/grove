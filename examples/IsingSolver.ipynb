{
 "cells": [
  {
   "cell_type": "markdown",
   "metadata": {},
   "source": [
    "This notebook is a short example of how to use the Ising solver implemented using the QAOA algorithm. We start by declaring the import of the ising function."
   ]
  },
  {
   "cell_type": "markdown",
   "metadata": {},
   "source": []
  },
  {
   "cell_type": "code",
   "execution_count": null,
   "metadata": {},
   "outputs": [],
   "source": [
    "from mock import patch, Mock\n",
    "from pyquil.api import WavefunctionSimulator\n",
    "\n",
    "from grove.ising.ising_qaoa import ising"
   ]
  },
  {
   "cell_type": "markdown",
   "metadata": {},
   "source": [
    "This code finds the global minima of an Ising model with external fields of the form\n",
    "$$f(x)= \\Sigma_i h_i x_i + \\Sigma_{i,j} J_{i,j} x_i x_j.$$\n",
    "Two adjacent sites $i,j$ have an interaction equal to $J_{i,j}$. There is also an external magnetic field $h_i$ that affects each individual spin. The discrete variables take the values $x_i \\in \\{+1,-1\\}$.\n",
    "\n",
    "In order to assert the correctness of the code we will find the minima of the following Ising model\n",
    "$$f(x)=x_0+x_1-x_2+x_3-2 x_0 x_1 +3 x_2 x_3.$$\n",
    "Which corresponds to $x_{min}=[-1, -1, 1, -1]$ in numerical order, with a minimum value of $f(x_{min})=-9$. \n",
    "\n",
    "This Ising code runs on quantum hardware, which means that we need to specify a connection to a QVM or QPU. Due to the absence of a real connection in this notebook, we will mock out the response to correspond to the expected value. In order to run this notebook on a QVM or QPU, replace cxn with a valid PyQuil connection object.\n",
    "\n",
    "The input for the code in the default mode corresponds simply to the parameters $h_i$ and $J_{i,j}$, that we specify as a list in numerical order and a dictionary. The code returns the bitstring of the minima, the minimum value, and the QAOA quantum circuit used to obtain that result.\n",
    "\n",
    "  "
   ]
  },
  {
   "cell_type": "code",
   "execution_count": null,
   "metadata": {},
   "outputs": [],
   "source": [
    "with patch(\"pyquil.api.QuantumComputer\") as qc, \\\n",
    "        patch(\"grove.pyvqe.vqe.WavefunctionSimulator\") as wfs:\n",
    "        qc.run.return_value = [[1,1,0,1]]\n",
    "        \n",
    "        fake_wfs = Mock(WavefunctionSimulator)\n",
    "        fake_wfs.expectation.return_value = [-0.4893891813015294,\n",
    "                                             0.8876822987380573,\n",
    "                                             -0.4893891813015292,\n",
    "                                             -0.9333372094534063,\n",
    "                                             -0.9859245403423198,\n",
    "                                             0.9333372094534065]\n",
    "        wfs.return_value = fake_wfs\n",
    "        \n",
    "        J = {(0, 1): -2, (2, 3): 3}\n",
    "        h = [1, 1, -1, 1]\n",
    "\n",
    "        solution, min_energy, circuit = ising(h, J, connection=qc)"
   ]
  },
  {
   "cell_type": "markdown",
   "metadata": {},
   "source": [
    "It is also possible to specify the Trotterization order for the QAOA algorithm used to implement the Ising model. By default this value is equal to double the number of variables. It is also possible to change the verbosity of the function, which is True by default. There are more advanced parameters that can be specified and are not described here.  "
   ]
  },
  {
   "cell_type": "code",
   "execution_count": null,
   "metadata": {},
   "outputs": [],
   "source": [
    "with patch(\"pyquil.api.QuantumComputer\") as qc, \\\n",
    "        patch(\"grove.pyvqe.vqe.WavefunctionSimulator\") as wfs:\n",
    "        qc.run.return_value = [[1,1,0,1]]\n",
    "        \n",
    "        fake_wfs = Mock(WavefunctionSimulator)\n",
    "        fake_wfs.expectation.return_value = [-0.4893891813015294,\n",
    "                                             0.8876822987380573,\n",
    "                                             -0.4893891813015292,\n",
    "                                             -0.9333372094534063,\n",
    "                                             -0.9859245403423198,\n",
    "                                             0.9333372094534065]\n",
    "        wfs.return_value = fake_wfs\n",
    "\n",
    "        solution_2, min_energy_2, circuit_2 = ising(h, J, num_steps=9, verbose=False, connection=qc)"
   ]
  },
  {
   "cell_type": "markdown",
   "metadata": {},
   "source": [
    "For large Ising problems, or those with many and close suboptimal minima, it is possible for the code to not return the global minima. Increasing the number of steps can solve this problem.\n",
    "\n",
    "Finally, we will check if the correct bitstring was found, corresponding to the global minima, in both runs."
   ]
  },
  {
   "cell_type": "code",
   "execution_count": null,
   "metadata": {},
   "outputs": [],
   "source": [
    "assert solution == [-1, -1, 1, -1], \"Found bitstring for first run does not correspond to global minima\"\n",
    "print(\"Energy for first run solution:\", min_energy)\n",
    "assert min_energy == -9\n",
    "assert solution_2 == [-1, -1, 1, -1], \"Found bitstring for second run does not correspond to global minima\"\n",
    "print(\"Energy for second run solution:\", min_energy_2)\n",
    "assert min_energy_2 == -9"
   ]
  },
  {
   "cell_type": "markdown",
   "metadata": {},
   "source": [
    "If the assertions succeeded, and the energy was equal to $-9$, we have found the correct solution for both runs. "
   ]
  }
 ],
 "metadata": {
  "kernelspec": {
   "display_name": "Python 3",
   "language": "python",
   "name": "python3"
  },
  "language_info": {
   "codemirror_mode": {
    "name": "ipython",
    "version": 3
   },
   "file_extension": ".py",
   "mimetype": "text/x-python",
   "name": "python",
   "nbconvert_exporter": "python",
   "pygments_lexer": "ipython3",
   "version": "3.6.5"
  }
 },
 "nbformat": 4,
 "nbformat_minor": 0
}