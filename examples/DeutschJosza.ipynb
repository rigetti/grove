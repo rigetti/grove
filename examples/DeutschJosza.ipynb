{
 "cells": [
  {
   "cell_type": "markdown",
   "metadata": {},
   "source": [
    "This Notebook is a brief sketch of how to use the Deutsch-Jozsa algorithm.\n",
    "We start by declaring all necessary imports."
   ]
  },
  {
   "cell_type": "code",
   "execution_count": 1,
   "metadata": {
    "ExecuteTime": {
     "end_time": "2017-11-22T02:28:27.229545Z",
     "start_time": "2017-11-22T02:28:27.039222Z"
    }
   },
   "outputs": [],
   "source": [
    "from collections import defaultdict\n",
    "from mock import patch, Mock\n",
    "from itertools import product\n",
    "\n",
    "from pyquil.api import JobConnection\n",
    "from pyquil.job_results import JobResult, wait_for_job\n",
    "import numpy as np\n",
    "\n",
    "from grove.deutsch_jozsa.deutsch_jozsa import DeutschJosza"
   ]
  },
  {
   "cell_type": "markdown",
   "metadata": {},
   "source": [
    "The Deutsch-Jozsa Algorithm can be used to determine if a binary-valued function is constant or balanced (returns 0 on exactly half of its inputs)."
   ]
  },
  {
   "cell_type": "code",
   "execution_count": 2,
   "metadata": {
    "ExecuteTime": {
     "end_time": "2017-11-22T02:28:27.928525Z",
     "start_time": "2017-11-22T02:28:27.922346Z"
    }
   },
   "outputs": [],
   "source": [
    "bit_value = '0'\n",
    "bit = (\"0\", \"1\")\n",
    "constant_bitmap = {}\n",
    "\n",
    "# We construct the bitmap for the algorithm\n",
    "for bitstring in product(bit, repeat=2):\n",
    "    bitstring = \"\".join(bitstring)\n",
    "    constant_bitmap[bitstring] = bit_value"
   ]
  },
  {
   "cell_type": "markdown",
   "metadata": {},
   "source": [
    "We verify that we have a constant bitmap below."
   ]
  },
  {
   "cell_type": "code",
   "execution_count": 3,
   "metadata": {
    "ExecuteTime": {
     "end_time": "2017-11-22T02:28:28.660043Z",
     "start_time": "2017-11-22T02:28:28.656803Z"
    }
   },
   "outputs": [],
   "source": [
    "for value in constant_bitmap.values():\n",
    "    assert value == bit_value, \"The constant_bitmap is not constant with value bit_value.\""
   ]
  },
  {
   "cell_type": "markdown",
   "metadata": {},
   "source": [
    "To use the Deutsch-Jozsa algorithm on a Quantum Hardware we need to define the connection to the QVM or QPU. However we don't have a real connection in this notebook, so we just mock out the response. If you run this notebook, ensure to replace `cxn` with a pyQuil connection object."
   ]
  },
  {
   "cell_type": "code",
   "execution_count": 4,
   "metadata": {
    "ExecuteTime": {
     "end_time": "2017-11-22T02:28:29.290802Z",
     "start_time": "2017-11-22T02:28:29.286847Z"
    }
   },
   "outputs": [],
   "source": [
    "with patch(\"pyquil.api.JobConnection\") as cxn:\n",
    "    cxn.run_and_measure.return_value = [[0], [0]]"
   ]
  },
  {
   "cell_type": "markdown",
   "metadata": {},
   "source": [
    "Now let's run the Deutsch Jozsa algorithm. We instantiate the Deutsch Jozsa object and then call its `is_constant` method with the connection object and the bitmap we defined above. Finally we assert its correctness by checking the output. (The method returns a boolean, so here we just check the returned boolean.)"
   ]
  },
  {
   "cell_type": "code",
   "execution_count": 5,
   "metadata": {
    "ExecuteTime": {
     "end_time": "2017-11-22T02:28:30.267305Z",
     "start_time": "2017-11-22T02:28:30.262349Z"
    },
    "scrolled": true
   },
   "outputs": [],
   "source": [
    "dj = DeutschJosza()\n",
    "is_constant = dj.is_constant(cxn, constant_bitmap)\n",
    "assert is_constant, \"The algorithm said the function was balanced.\""
   ]
  },
  {
   "cell_type": "markdown",
   "metadata": {},
   "source": [
    "If the assertion succeeded we know the algorithm returned the zero bitstring and successfully recognized the function as constant."
   ]
  },
  {
   "cell_type": "code",
   "execution_count": null,
   "metadata": {},
   "outputs": [],
   "source": []
  }
 ],
 "metadata": {
  "kernelspec": {
   "display_name": "Python 3",
   "language": "python",
   "name": "python3"
  },
  "language_info": {
   "codemirror_mode": {
    "name": "ipython",
    "version": 3
   },
   "file_extension": ".py",
   "mimetype": "text/x-python",
   "name": "python",
   "nbconvert_exporter": "python",
   "pygments_lexer": "ipython3",
   "version": "3.6.1"
  },
  "latex_envs": {
   "LaTeX_envs_menu_present": true,
   "autocomplete": true,
   "bibliofile": "biblio.bib",
   "cite_by": "apalike",
   "current_citInitial": 1,
   "eqLabelWithNumbers": true,
   "eqNumInitial": 1,
   "hotkeys": {
    "equation": "Ctrl-E",
    "itemize": "Ctrl-I"
   },
   "labels_anchors": false,
   "latex_user_defs": false,
   "report_style_numbering": false,
   "user_envs_cfg": false
  },
  "toc": {
   "colors": {
    "hover_highlight": "#DAA520",
    "running_highlight": "#FF0000",
    "selected_highlight": "#FFD700"
   },
   "moveMenuLeft": true,
   "nav_menu": {
    "height": "4px",
    "width": "254px"
   },
   "navigate_menu": true,
   "number_sections": true,
   "sideBar": true,
   "threshold": 4,
   "toc_cell": false,
   "toc_section_display": "block",
   "toc_window_display": false,
   "widenNotebook": false
  }
 },
 "nbformat": 4,
 "nbformat_minor": 1
}
