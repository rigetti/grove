{
 "cells": [
  {
   "cell_type": "code",
   "execution_count": null,
   "metadata": {},
   "outputs": [],
   "source": [
    "import numpy as np\n",
    "import qutip as qt\n",
    "\n",
    "# generate ideal targets\n",
    "qCZ = qt.cphase(np.pi)\n",
    "qRX90 = (-np.pi*.25j*qt.sigmax()).expm()\n",
    "qI = qt.qeye(2)"
   ]
  },
  {
   "cell_type": "code",
   "execution_count": null,
   "metadata": {},
   "outputs": [],
   "source": [
    "import grove.tomography.qpu_characterization\n",
    "reload(grove.tomography.qpu_characterization);"
   ]
  },
  {
   "cell_type": "code",
   "execution_count": null,
   "metadata": {},
   "outputs": [],
   "source": [
    "from pyquil.api import get_devices, QPUConnection, QVMConnection\n",
    "from pyquil.gates import RX, CZ, I\n",
    "from grove.tomography.qpu_characterization import parallel_process_tomographies, parallel_sample_assignment_probs\n",
    "from grove.tomography.process_tomography import DEFAULT_PROCESS_TOMO_SETTINGS\n",
    "\n",
    "import grove.tomography.utils as ut\n",
    "\n",
    "# fancy TQDM progress bars\n",
    "ut.notebook_mode(True)"
   ]
  },
  {
   "cell_type": "code",
   "execution_count": null,
   "metadata": {},
   "outputs": [],
   "source": [
    "DEFAULT_PROCESS_TOMO_SETTINGS"
   ]
  },
  {
   "cell_type": "code",
   "execution_count": 45,
   "metadata": {},
   "outputs": [
    {
     "data": {
      "text/plain": [
       "{<Device 19Q-Acorn retuning>, <Device 8Q-Agave offline>}"
      ]
     },
     "execution_count": 45,
     "metadata": {},
     "output_type": "execute_result"
    }
   ],
   "source": [
    "get_devices()"
   ]
  },
  {
   "cell_type": "code",
   "execution_count": null,
   "metadata": {},
   "outputs": [],
   "source": [
    "qpu = QPUConnection('8Q-Agave', status_time=False)\n",
    "# qpu = QVMConnection()"
   ]
  },
  {
   "cell_type": "code",
   "execution_count": null,
   "metadata": {},
   "outputs": [],
   "source": [
    "%%time\n",
    "I_tomos = parallel_process_tomographies(I, [[q] for q in range(8)], 2000, qpu)\n",
    "RX90_tomos = parallel_process_tomographies(RX(np.pi/2), [[q] for q in range(8)], 2000, qpu)"
   ]
  },
  {
   "cell_type": "code",
   "execution_count": null,
   "metadata": {},
   "outputs": [],
   "source": [
    "staggered_1q1 = [[q] for q in range(0, 8, 2)]\n",
    "staggered_1q2 = [[q] for q in range(1, 8, 2)]"
   ]
  },
  {
   "cell_type": "code",
   "execution_count": null,
   "metadata": {},
   "outputs": [],
   "source": [
    "neighboring_cliques1 = [(0, 1), (2, 3), (4, 5), (6, 7)]\n",
    "neighboring_cliques2 = [(7, 0), (1, 2), (3, 4), (5, 6)]\n",
    "\n",
    "staggered_cliques1 = [(0, 1), (4, 5)]\n",
    "staggered_cliques2 = [(2, 3), (6, 7)]\n",
    "staggered_cliques3 = [(7, 0), (3, 4)]\n",
    "staggered_cliques4 = [(1, 2), (5, 6)]"
   ]
  },
  {
   "cell_type": "code",
   "execution_count": null,
   "metadata": {},
   "outputs": [],
   "source": [
    "%%time\n",
    "CZ_tomos1 = parallel_process_tomographies(CZ, neighboring_cliques1, 2000, qpu)"
   ]
  },
  {
   "cell_type": "code",
   "execution_count": null,
   "metadata": {},
   "outputs": [],
   "source": [
    "%%time\n",
    "CZ_tomos2 = parallel_process_tomographies(CZ, neighboring_cliques2, 2000, qpu)"
   ]
  },
  {
   "cell_type": "code",
   "execution_count": null,
   "metadata": {},
   "outputs": [],
   "source": [
    "%%time \n",
    "RX90_tomos_staggered1 = parallel_process_tomographies(RX(np.pi/2), staggered_1q1, 2000, qpu)\n",
    "RX90_tomos_staggered2 = parallel_process_tomographies(RX(np.pi/2), staggered_1q2, 2000, qpu)"
   ]
  },
  {
   "cell_type": "code",
   "execution_count": null,
   "metadata": {},
   "outputs": [],
   "source": [
    "%%time\n",
    "CZ_tomos_staggered1 = parallel_process_tomographies(CZ, staggered_cliques1, 2000, qpu)\n",
    "CZ_tomos_staggered2 = parallel_process_tomographies(CZ, staggered_cliques2, 2000, qpu)"
   ]
  },
  {
   "cell_type": "code",
   "execution_count": null,
   "metadata": {},
   "outputs": [],
   "source": [
    "%%time\n",
    "CZ_tomos_staggered3 = parallel_process_tomographies(CZ, staggered_cliques3, 2000, qpu)\n",
    "CZ_tomos_staggered4 = parallel_process_tomographies(CZ, staggered_cliques4, 2000, qpu)"
   ]
  },
  {
   "cell_type": "code",
   "execution_count": null,
   "metadata": {},
   "outputs": [],
   "source": [
    "import cPickle as pickle\n",
    "with open(\"qpu_gates_constrained.pickle\", \"wb\") as f:\n",
    "    tomos = {k: v for k,v in globals().items() if \"_tomos\" in k}\n",
    "    print(\"Storing {}\".format(list(tomos.keys())))\n",
    "    pickle.dump(tomos, f)"
   ]
  },
  {
   "cell_type": "code",
   "execution_count": null,
   "metadata": {},
   "outputs": [],
   "source": [
    "import qutip as qt"
   ]
  },
  {
   "cell_type": "code",
   "execution_count": 43,
   "metadata": {},
   "outputs": [
    {
     "name": "stdout",
     "output_type": "stream",
     "text": [
      "Simultaneously taken on [(0, 1), (2, 3), (4, 5), (6, 7)]\n",
      "\n",
      "Average Gate Fidelity for CZ (0, 1) F_avg=73.6%\n",
      "Average Gate Fidelity for CZ (2, 3) F_avg=71.9%\n",
      "Average Gate Fidelity for CZ (4, 5) F_avg=75.2%\n",
      "Average Gate Fidelity for CZ (6, 7) F_avg=53%\n",
      "\n",
      "Simultaneously taken on [(7, 0), (1, 2), (3, 4), (5, 6)]\n",
      "\n",
      "Average Gate Fidelity for CZ (7, 0) F_avg=62.7%\n",
      "Average Gate Fidelity for CZ (1, 2) F_avg=26.2%\n",
      "Average Gate Fidelity for CZ (3, 4) F_avg=71%\n",
      "Average Gate Fidelity for CZ (5, 6) F_avg=65.7%\n"
     ]
    }
   ],
   "source": [
    "print(\"Simultaneously taken on {}\\n\".format(neighboring_cliques1))\n",
    "for pair, pt in zip(neighboring_cliques1, CZ_tomos1[0]):\n",
    "    print(\"Average Gate Fidelity for CZ {} F_avg={:0.3g}%\".format(pair, 100*pt.avg_gate_fidelity(qCZ)))\n",
    "print(\"\\nSimultaneously taken on {}\\n\".format(neighboring_cliques2))\n",
    "for pair, pt in zip(neighboring_cliques2, CZ_tomos2[0]):\n",
    "    print(\"Average Gate Fidelity for CZ {} F_avg={:0.3g}%\".format(pair, 100*pt.avg_gate_fidelity(qCZ)))"
   ]
  },
  {
   "cell_type": "code",
   "execution_count": null,
   "metadata": {},
   "outputs": [],
   "source": [
    "print(\"Simultaneously taken on {}\\n\".format(neighboring_cliques1))\n",
    "for pair, pt in zip(neighboring_cliques1, CZ_tomos1[0]):\n",
    "    print(\"Average Gate Fidelity for CZ {} F_avg={:0.3g}%\".format(pair, 100*pt.avg_gate_fidelity(qCZ)))\n",
    "print(\"\\nSimultaneously taken on {}\\n\".format(neighboring_cliques2))\n",
    "for pair, pt in zip(neighboring_cliques2, CZ_tomos2[0]):\n",
    "    print(\"Average Gate Fidelity for CZ {} F_avg={:0.3g}%\".format(pair, 100*pt.avg_gate_fidelity(qCZ))) "
   ]
  },
  {
   "cell_type": "code",
   "execution_count": null,
   "metadata": {},
   "outputs": [],
   "source": [
    "for pt in CZ_tomos2[0]:\n",
    "    print(pt.avg_gate_fidelity(qCZ))"
   ]
  },
  {
   "cell_type": "code",
   "execution_count": 44,
   "metadata": {},
   "outputs": [
    {
     "name": "stdout",
     "output_type": "stream",
     "text": [
      "Simultaneously taken on [(0, 1), (4, 5)]\n",
      "\n",
      "Average Gate Fidelity for CZ (0, 1) F_avg=91.5%\n",
      "Average Gate Fidelity for CZ (4, 5) F_avg=90.1%\n",
      "\n",
      "Simultaneously taken on [(2, 3), (6, 7)]\n",
      "\n",
      "Average Gate Fidelity for CZ (2, 3) F_avg=73.1%\n",
      "Average Gate Fidelity for CZ (6, 7) F_avg=84.1%\n"
     ]
    }
   ],
   "source": [
    "print(\"Simultaneously taken on {}\\n\".format(staggered_cliques1))\n",
    "for pair, pt in zip(staggered_cliques1, CZ_tomos_staggered1[0]):\n",
    "    print(\"Average Gate Fidelity for CZ {} F_avg={:0.3g}%\".format(pair, 100*pt.avg_gate_fidelity(qCZ)))\n",
    "print(\"\\nSimultaneously taken on {}\\n\".format(staggered_cliques2))\n",
    "for pair, pt in zip(staggered_cliques2, CZ_tomos_staggered2[0]):\n",
    "    print(\"Average Gate Fidelity for CZ {} F_avg={:0.3g}%\".format(pair, 100*pt.avg_gate_fidelity(qCZ))) "
   ]
  },
  {
   "cell_type": "code",
   "execution_count": null,
   "metadata": {},
   "outputs": [],
   "source": [
    "for pt in CZ_tomos_staggered1[0]:\n",
    "    print(pt.avg_gate_fidelity(qCZ))"
   ]
  },
  {
   "cell_type": "code",
   "execution_count": null,
   "metadata": {},
   "outputs": [],
   "source": [
    "for pt in RX90_tomos[0]:\n",
    "    print(pt.avg_gate_fidelity((-qt.sigmax()*np.pi*.25j).expm()))"
   ]
  },
  {
   "cell_type": "code",
   "execution_count": null,
   "metadata": {},
   "outputs": [],
   "source": [
    "CZ_tomos_staggered1[0][0].plot();"
   ]
  },
  {
   "cell_type": "code",
   "execution_count": null,
   "metadata": {},
   "outputs": [],
   "source": []
  }
 ],
 "metadata": {
  "kernelspec": {
   "display_name": "Python 2",
   "language": "python",
   "name": "python2"
  },
  "language_info": {
   "codemirror_mode": {
    "name": "ipython",
    "version": 2
   },
   "file_extension": ".py",
   "mimetype": "text/x-python",
   "name": "python",
   "nbconvert_exporter": "python",
   "pygments_lexer": "ipython2",
   "version": "2.7.13"
  }
 },
 "nbformat": 4,
 "nbformat_minor": 2
}
