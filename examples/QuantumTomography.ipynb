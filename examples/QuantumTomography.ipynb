{
 "cells": [
  {
   "cell_type": "code",
   "execution_count": 87,
   "metadata": {},
   "outputs": [],
   "source": [
    "from collections import defaultdict\n",
    "# from pyquil.api import SyncConnection\n",
    "from referenceqvm.api import SyncConnection\n",
    "import numpy as np\n",
    "import pyquil as pq\n",
    "from itertools import product as cartesian_product\n",
    "import qutip as qt\n",
    "import matplotlib.pyplot as plt\n",
    "%matplotlib inline"
   ]
  },
  {
   "cell_type": "markdown",
   "metadata": {},
   "source": [
    "# Circuits for assignment probability measurements and tomography"
   ]
  },
  {
   "cell_type": "code",
   "execution_count": 203,
   "metadata": {},
   "outputs": [],
   "source": [
    "def default_rotations_1q(q):\n",
    "    \"\"\"\n",
    "    Generate the QUIL programs for tomographic pre- and post-rotations\n",
    "    of a single qubit.\n",
    "    \"\"\"\n",
    "    for g in [\"I\", \"X-HALF\", \"Y-HALF\", \"X\"]:\n",
    "        p = pq.quil.Program()\n",
    "        p.inst(pq.quil.Gate(g, (), [pq.quilbase.unpack_qubit(q)]))\n",
    "        yield p\n",
    "\n",
    "def default_rotations(*qubits):\n",
    "    \"\"\"\n",
    "    Generate the QUIL programs for the tomographic pre- and post-rotations\n",
    "    of any number of qubits.\n",
    "    \"\"\"\n",
    "    for programs in cartesian_product(*(default_rotations_1q(q) for q in qubits)):\n",
    "        p = pq.quil.Program()\n",
    "        for pp in programs:\n",
    "            p.inst(pp)\n",
    "        yield p\n",
    "\n",
    "        \n",
    "def state_tomography_programs(state_prep, qubits=None, rotation_generator=default_rotations):\n",
    "    \"\"\"\n",
    "    Yield tomographic sequences that prepare a state with QUIL program `state_prep`\n",
    "    and then append tomographic rotations on the specified `qubits`.\n",
    "    \n",
    "    If `qubits is None`, it assumes all qubits in the program should be \n",
    "    tomographically rotated.\n",
    "    \"\"\"\n",
    "    if qubits is None:\n",
    "        qubits = state_prep.extract_qubits()\n",
    "    for tp in rotation_generator(*qubits):\n",
    "        p = pq.quil.Program()\n",
    "#         p.inst(*TOMO_DEFCIRCUTS)\n",
    "        p.inst(state_prep)\n",
    "        p.inst(tp)\n",
    "        yield p\n",
    "\n",
    "def process_tomography_programs(proc, qubits=None, \n",
    "                                pre_rotation_generator=default_rotations,\n",
    "                                post_rotation_generator=default_rotations\n",
    "                               ):\n",
    "    \"\"\"\n",
    "    Yield tomographic sequences that wrap a process encoded by a QUIL program `proc`\n",
    "    in tomographic rotations on the specified `qubits`.\n",
    "    \n",
    "    If `qubits is None`, it assumes all qubits in the program should be \n",
    "    tomographically rotated.\n",
    "    \"\"\"\n",
    "    if qubits is None:\n",
    "        qubits = proc.extract_qubits()\n",
    "    for tp_pre in pre_rotation_generator(*qubits):\n",
    "        for tp_post in post_rotation_generator(*qubits):\n",
    "            p = pq.quil.Program()\n",
    "            p.inst(tp_pre)\n",
    "            p.inst(proc)\n",
    "            p.inst(tp_post)\n",
    "            yield p\n",
    "\n",
    "def basis_state_preps(*qubits):\n",
    "    \"\"\"\n",
    "    Generate a sequence of programs that prepares the measurement\n",
    "    basis states of some set of qubits in the order such that the qubit\n",
    "    with highest index is iterated over the most quickly:\n",
    "    E.g., for qubits=(0, 1), it returns the circuits::\n",
    "    \n",
    "        I_0 I_1\n",
    "        I_0 X_1\n",
    "        X_0 I_1\n",
    "        X_0 X_1\n",
    "    \"\"\"\n",
    "    for prep in cartesian_product([\"I\", \"X\"], repeat=len(qubits)):\n",
    "        p = pq.quil.Program()\n",
    "        for g, q in zip(prep, qubits):\n",
    "            p.inst(pq.gates.Gate(g, (), [pq.quilbase.unpack_qubit(q)]))\n",
    "        yield p"
   ]
  },
  {
   "cell_type": "code",
   "execution_count": 16,
   "metadata": {},
   "outputs": [],
   "source": [
    "# PAULI OPS\n",
    "X = qt.sigmax()\n",
    "Y = qt.sigmay()\n",
    "Z = qt.sigmaz()\n",
    "I = qt.qeye(2)\n",
    "\n",
    "TOMOGRAPHY_GATES = {\n",
    "    \"X-HALF\": (-1j * np.pi / 4 * X).expm(),\n",
    "    \"Y-HALF\": (-1j * np.pi / 4 * Y).expm(),\n",
    "    \"X\": (-1j * np.pi / 2 * X).expm(),\n",
    "    \"Y\": (-1j * np.pi / 2 * Y).expm(),\n",
    "    \"MINUS-X-HALF\": (1j * np.pi / 4 * X).expm(),\n",
    "    \"MINUS-Y-HALF\": (1j * np.pi / 4 * Y).expm(),\n",
    "    \"MINUS-X\": (1j * np.pi / 2 * X).expm(),\n",
    "    \"MINUS-Y\": (1j * np.pi / 2 * Y).expm(),\n",
    "    \"I\": qt.qeye(2)\n",
    "}\n"
   ]
  },
  {
   "cell_type": "code",
   "execution_count": 194,
   "metadata": {},
   "outputs": [],
   "source": [
    "TOMO_DEFCIRCUTS = [\n",
    "    pq.quil.DefGate(n, m.data.toarray())\n",
    "    for n, m in TOMOGRAPHY_GATES.items()\n",
    "]"
   ]
  },
  {
   "cell_type": "code",
   "execution_count": 198,
   "metadata": {},
   "outputs": [
    {
     "name": "stdout",
     "output_type": "stream",
     "text": [
      "DEFGATE X-HALF:\n",
      "    0.70710678118654757+0.0i, 0.0-0.70710678118654757i\n",
      "    0.0-0.70710678118654757i, 0.70710678118654757+0.0i\n",
      "\n"
     ]
    }
   ],
   "source": [
    "print TOMO_DEFCIRCUTS[0].out()"
   ]
  },
  {
   "cell_type": "markdown",
   "metadata": {},
   "source": [
    "# Inverse sampling"
   ]
  },
  {
   "cell_type": "code",
   "execution_count": 113,
   "metadata": {},
   "outputs": [],
   "source": [
    "def sample_outcomes(probs, n):\n",
    "    \"\"\"\n",
    "    For a discrete probability distribution ``probs`` with outcomes\n",
    "        0, 1, ..., k-1\n",
    "    draw ``n`` random samples.\n",
    "    \"\"\"\n",
    "    dist = np.cumsum(probs)\n",
    "    outcomes = np.zeros(n, dtype=int)\n",
    "    r = np.random.rand(n)\n",
    "    for idx in range(n):\n",
    "        outcomes[idx] = (np.where(r[idx] < dist)[0][0])\n",
    "    return outcomes\n",
    "    "
   ]
  },
  {
   "cell_type": "code",
   "execution_count": 116,
   "metadata": {},
   "outputs": [
    {
     "data": {
      "text/plain": [
       "<matplotlib.legend.Legend at 0x11108e250>"
      ]
     },
     "execution_count": 116,
     "metadata": {},
     "output_type": "execute_result"
    },
    {
     "data": {
      "image/png": "[encoded data removed]",
      "text/plain": [
       "<matplotlib.figure.Figure at 0x110f0cd10>"
      ]
     },
     "metadata": {},
     "output_type": "display_data"
    }
   ],
   "source": [
    "n = 6\n",
    "N = 10000\n",
    "\n",
    "probs = np.random.rand(n)\n",
    "probs /= probs.sum()\n",
    "\n",
    "samples = sample_outcomes(probs, N)\n",
    "plt.figure(figsize=(10, 5))\n",
    "plt.hist(samples, bins=np.arange(n+1)-.5, label=\"samples\")\n",
    "plt.plot(probs * N, \"x\", ms=10, label=\"$p(k)$\")\n",
    "plt.title(\"Inverse sampling test\", size=15)\n",
    "plt.ylabel(\"Counts\", size=15)\n",
    "plt.xlabel(\"Outcome $k$\", size=15)\n",
    "plt.legend(loc=\"best\")\n"
   ]
  },
  {
   "cell_type": "code",
   "execution_count": 204,
   "metadata": {},
   "outputs": [],
   "source": [
    "cxn = SyncConnection(gate_set=TOMOGRAPHY_GATES)"
   ]
  },
  {
   "cell_type": "markdown",
   "metadata": {},
   "source": [
    "# Simulate bad readout and estimate confusion matrix "
   ]
  },
  {
   "cell_type": "code",
   "execution_count": 188,
   "metadata": {},
   "outputs": [],
   "source": [
    "def sample_bad_readout(program, n, assignment_probs):\n",
    "    cxn.run(program)\n",
    "    return sample_outcomes(assignment_probs.dot(abs(cxn.wf.ravel())**2), n)"
   ]
  },
  {
   "cell_type": "code",
   "execution_count": 189,
   "metadata": {},
   "outputs": [],
   "source": [
    "def make_histogram(samples, ksup):\n",
    "    return np.histogram(samples, np.arange(ksup + 1) - 0.5)[0]"
   ]
  },
  {
   "cell_type": "code",
   "execution_count": 190,
   "metadata": {},
   "outputs": [],
   "source": [
    "def estimate_assignment_probs(qubits, real_assignment_probs, n):\n",
    "    estimated_assignment_probs = np.zeros((2**len(qubits), 2**len(qubits)))\n",
    "    for jj, prog in enumerate(basis_state_preps(*qubits)):\n",
    "        outcomes = sample_bad_readout(prog, n, real_assignment_probs)\n",
    "        estimated_assignment_probs[:, jj] =  make_histogram(outcomes, 2**len(qubits)) / float(n)\n",
    "    return estimated_assignment_probs"
   ]
  },
  {
   "cell_type": "code",
   "execution_count": 191,
   "metadata": {},
   "outputs": [
    {
     "data": {
      "text/plain": [
       "array([[ 0.89 ,  0.135],\n",
       "       [ 0.11 ,  0.865]])"
      ]
     },
     "execution_count": 191,
     "metadata": {},
     "output_type": "execute_result"
    }
   ],
   "source": [
    "BAD_1Q_READOUT = np.array([[.9, .15],\n",
    "                           [.1, .85]])\n",
    "estimate_assignment_probs([0], BAD_1Q_READOUT, 200)"
   ]
  },
  {
   "cell_type": "code",
   "execution_count": 25,
   "metadata": {},
   "outputs": [
    {
     "data": {
      "text/latex": [
       "Quantum object: dims = [[2], [2]], shape = (2, 2), type = oper, isherm = True\\begin{equation*}\\left(\\begin{array}{*{11}c}0.0 & 1.0\\\\1.0 & 0.0\\\\\\end{array}\\right)\\end{equation*}"
      ],
      "text/plain": [
       "Quantum object: dims = [[2], [2]], shape = (2, 2), type = oper, isherm = True\n",
       "Qobj data =\n",
       "[[ 0.  1.]\n",
       " [ 1.  0.]]"
      ]
     },
     "execution_count": 25,
     "metadata": {},
     "output_type": "execute_result"
    }
   ],
   "source": [
    "qt.tensor(X)"
   ]
  },
  {
   "cell_type": "code",
   "execution_count": 178,
   "metadata": {},
   "outputs": [],
   "source": [
    "def quil_to_operator(program):\n",
    "    \"\"\"\n",
    "    Convert a proto-Quil program consisting only of single qubit gates that appear in\n",
    "    ``TOMOGRAPHY-GATES`` to a ``qutip.Qobj operator``.\n",
    "\n",
    "    :param pyquil.quil.Program program: The program to convert.\n",
    "    :return: A unitary operator representation.\n",
    "    :rtype: qutip.Qobj\n",
    "    \"\"\"\n",
    "\n",
    "    qubits = sorted(q for q in program.extract_qubits())\n",
    "    U = qt.qeye([2] * len(qubits))\n",
    "\n",
    "    for g in program.synthesize():\n",
    "\n",
    "        if not isinstance(g, pq.gates.Gate):\n",
    "            raise ValueError(\"Unsupported Instruction: %s\" % g)\n",
    "\n",
    "        if not len(g.arguments) == 1:\n",
    "            raise ValueError(\"Only programs comprised of single qubit gates supported: %s\" % g)\n",
    "\n",
    "        qt_op = TOMOGRAPHY_GATES[g.operator_name]\n",
    "\n",
    "        ops = [I] * len(qubits)\n",
    "        idx = qubits.index(g.arguments[0].index())\n",
    "        ops[idx] = qt_op\n",
    "\n",
    "        U = qt.tensor(*ops) * U\n",
    "    return U"
   ]
  },
  {
   "cell_type": "code",
   "execution_count": 50,
   "metadata": {},
   "outputs": [],
   "source": [
    "qb = p.synthesize()[0].arguments[0]"
   ]
  },
  {
   "cell_type": "code",
   "execution_count": 56,
   "metadata": {},
   "outputs": [
    {
     "name": "stdout",
     "output_type": "stream",
     "text": [
      "I 0\n",
      "I 1\n",
      "\n",
      "I 0\n",
      "X 1\n",
      "\n",
      "X 0\n",
      "I 1\n",
      "\n",
      "X 0\n",
      "X 1\n",
      "\n"
     ]
    }
   ],
   "source": [
    "for p in basis_state_preps(0, 1):\n",
    "    print(p)"
   ]
  },
  {
   "cell_type": "code",
   "execution_count": 179,
   "metadata": {},
   "outputs": [
    {
     "name": "stdout",
     "output_type": "stream",
     "text": [
      "I 0\n",
      "\n"
     ]
    },
    {
     "data": {
      "text/latex": [
       "Quantum object: dims = [[2], [2]], shape = (2, 2), type = oper, isherm = True\\begin{equation*}\\left(\\begin{array}{*{11}c}1.0 & 0.0\\\\0.0 & 1.0\\\\\\end{array}\\right)\\end{equation*}"
      ],
      "text/plain": [
       "Quantum object: dims = [[2], [2]], shape = (2, 2), type = oper, isherm = True\n",
       "Qobj data =\n",
       "[[ 1.  0.]\n",
       " [ 0.  1.]]"
      ]
     },
     "metadata": {},
     "output_type": "display_data"
    },
    {
     "name": "stdout",
     "output_type": "stream",
     "text": [
      "X-HALF 0\n",
      "\n"
     ]
    },
    {
     "data": {
      "text/latex": [
       "Quantum object: dims = [[2], [2]], shape = (2, 2), type = oper, isherm = False\\begin{equation*}\\left(\\begin{array}{*{11}c}0.707 & -0.707j\\\\-0.707j & 0.707\\\\\\end{array}\\right)\\end{equation*}"
      ],
      "text/plain": [
       "Quantum object: dims = [[2], [2]], shape = (2, 2), type = oper, isherm = False\n",
       "Qobj data =\n",
       "[[ 0.70710678+0.j          0.00000000-0.70710678j]\n",
       " [ 0.00000000-0.70710678j  0.70710678+0.j        ]]"
      ]
     },
     "metadata": {},
     "output_type": "display_data"
    },
    {
     "name": "stdout",
     "output_type": "stream",
     "text": [
      "Y-HALF 0\n",
      "\n"
     ]
    },
    {
     "data": {
      "text/latex": [
       "Quantum object: dims = [[2], [2]], shape = (2, 2), type = oper, isherm = False\\begin{equation*}\\left(\\begin{array}{*{11}c}0.707 & -0.707\\\\0.707 & 0.707\\\\\\end{array}\\right)\\end{equation*}"
      ],
      "text/plain": [
       "Quantum object: dims = [[2], [2]], shape = (2, 2), type = oper, isherm = False\n",
       "Qobj data =\n",
       "[[ 0.70710678 -0.70710678]\n",
       " [ 0.70710678  0.70710678]]"
      ]
     },
     "metadata": {},
     "output_type": "display_data"
    },
    {
     "name": "stdout",
     "output_type": "stream",
     "text": [
      "X 0\n",
      "\n"
     ]
    },
    {
     "data": {
      "text/latex": [
       "Quantum object: dims = [[2], [2]], shape = (2, 2), type = oper, isherm = False\\begin{equation*}\\left(\\begin{array}{*{11}c}0.0 & -1.0j\\\\-1.0j & 0.0\\\\\\end{array}\\right)\\end{equation*}"
      ],
      "text/plain": [
       "Quantum object: dims = [[2], [2]], shape = (2, 2), type = oper, isherm = False\n",
       "Qobj data =\n",
       "[[ 0.+0.j  0.-1.j]\n",
       " [ 0.-1.j  0.+0.j]]"
      ]
     },
     "metadata": {},
     "output_type": "display_data"
    }
   ],
   "source": [
    "for p in default_rotations_1q(0):\n",
    "    print(p)\n",
    "    display(quil_to_operator(p))"
   ]
  },
  {
   "cell_type": "code",
   "execution_count": 180,
   "metadata": {
    "scrolled": false
   },
   "outputs": [
    {
     "name": "stdout",
     "output_type": "stream",
     "text": [
      "I 0\n",
      "I 1\n",
      "\n"
     ]
    },
    {
     "data": {
      "text/latex": [
       "Quantum object: dims = [[2, 2], [2, 2]], shape = (4, 4), type = oper, isherm = True\\begin{equation*}\\left(\\begin{array}{*{11}c}1.0 & 0.0 & 0.0 & 0.0\\\\0.0 & 1.0 & 0.0 & 0.0\\\\0.0 & 0.0 & 1.0 & 0.0\\\\0.0 & 0.0 & 0.0 & 1.0\\\\\\end{array}\\right)\\end{equation*}"
      ],
      "text/plain": [
       "Quantum object: dims = [[2, 2], [2, 2]], shape = (4, 4), type = oper, isherm = True\n",
       "Qobj data =\n",
       "[[ 1.  0.  0.  0.]\n",
       " [ 0.  1.  0.  0.]\n",
       " [ 0.  0.  1.  0.]\n",
       " [ 0.  0.  0.  1.]]"
      ]
     },
     "metadata": {},
     "output_type": "display_data"
    },
    {
     "name": "stdout",
     "output_type": "stream",
     "text": [
      "I 0\n",
      "X-HALF 1\n",
      "\n"
     ]
    },
    {
     "data": {
      "text/latex": [
       "Quantum object: dims = [[2, 2], [2, 2]], shape = (4, 4), type = oper, isherm = False\\begin{equation*}\\left(\\begin{array}{*{11}c}0.707 & -0.707j & 0.0 & 0.0\\\\-0.707j & 0.707 & 0.0 & 0.0\\\\0.0 & 0.0 & 0.707 & -0.707j\\\\0.0 & 0.0 & -0.707j & 0.707\\\\\\end{array}\\right)\\end{equation*}"
      ],
      "text/plain": [
       "Quantum object: dims = [[2, 2], [2, 2]], shape = (4, 4), type = oper, isherm = False\n",
       "Qobj data =\n",
       "[[ 0.70710678+0.j          0.00000000-0.70710678j  0.00000000+0.j\n",
       "   0.00000000+0.j        ]\n",
       " [ 0.00000000-0.70710678j  0.70710678+0.j          0.00000000+0.j\n",
       "   0.00000000+0.j        ]\n",
       " [ 0.00000000+0.j          0.00000000+0.j          0.70710678+0.j\n",
       "   0.00000000-0.70710678j]\n",
       " [ 0.00000000+0.j          0.00000000+0.j          0.00000000-0.70710678j\n",
       "   0.70710678+0.j        ]]"
      ]
     },
     "metadata": {},
     "output_type": "display_data"
    },
    {
     "name": "stdout",
     "output_type": "stream",
     "text": [
      "I 0\n",
      "Y-HALF 1\n",
      "\n"
     ]
    },
    {
     "data": {
      "text/latex": [
       "Quantum object: dims = [[2, 2], [2, 2]], shape = (4, 4), type = oper, isherm = False\\begin{equation*}\\left(\\begin{array}{*{11}c}0.707 & -0.707 & 0.0 & 0.0\\\\0.707 & 0.707 & 0.0 & 0.0\\\\0.0 & 0.0 & 0.707 & -0.707\\\\0.0 & 0.0 & 0.707 & 0.707\\\\\\end{array}\\right)\\end{equation*}"
      ],
      "text/plain": [
       "Quantum object: dims = [[2, 2], [2, 2]], shape = (4, 4), type = oper, isherm = False\n",
       "Qobj data =\n",
       "[[ 0.70710678 -0.70710678  0.          0.        ]\n",
       " [ 0.70710678  0.70710678  0.          0.        ]\n",
       " [ 0.          0.          0.70710678 -0.70710678]\n",
       " [ 0.          0.          0.70710678  0.70710678]]"
      ]
     },
     "metadata": {},
     "output_type": "display_data"
    },
    {
     "name": "stdout",
     "output_type": "stream",
     "text": [
      "I 0\n",
      "X 1\n",
      "\n"
     ]
    },
    {
     "data": {
      "text/latex": [
       "Quantum object: dims = [[2, 2], [2, 2]], shape = (4, 4), type = oper, isherm = False\\begin{equation*}\\left(\\begin{array}{*{11}c}0.0 & -1.0j & 0.0 & 0.0\\\\-1.0j & 0.0 & 0.0 & 0.0\\\\0.0 & 0.0 & 0.0 & -1.0j\\\\0.0 & 0.0 & -1.0j & 0.0\\\\\\end{array}\\right)\\end{equation*}"
      ],
      "text/plain": [
       "Quantum object: dims = [[2, 2], [2, 2]], shape = (4, 4), type = oper, isherm = False\n",
       "Qobj data =\n",
       "[[ 0.+0.j  0.-1.j  0.+0.j  0.+0.j]\n",
       " [ 0.-1.j  0.+0.j  0.+0.j  0.+0.j]\n",
       " [ 0.+0.j  0.+0.j  0.+0.j  0.-1.j]\n",
       " [ 0.+0.j  0.+0.j  0.-1.j  0.+0.j]]"
      ]
     },
     "metadata": {},
     "output_type": "display_data"
    },
    {
     "name": "stdout",
     "output_type": "stream",
     "text": [
      "X-HALF 0\n",
      "I 1\n",
      "\n"
     ]
    },
    {
     "data": {
      "text/latex": [
       "Quantum object: dims = [[2, 2], [2, 2]], shape = (4, 4), type = oper, isherm = False\\begin{equation*}\\left(\\begin{array}{*{11}c}0.707 & 0.0 & -0.707j & 0.0\\\\0.0 & 0.707 & 0.0 & -0.707j\\\\-0.707j & 0.0 & 0.707 & 0.0\\\\0.0 & -0.707j & 0.0 & 0.707\\\\\\end{array}\\right)\\end{equation*}"
      ],
      "text/plain": [
       "Quantum object: dims = [[2, 2], [2, 2]], shape = (4, 4), type = oper, isherm = False\n",
       "Qobj data =\n",
       "[[ 0.70710678+0.j          0.00000000+0.j          0.00000000-0.70710678j\n",
       "   0.00000000+0.j        ]\n",
       " [ 0.00000000+0.j          0.70710678+0.j          0.00000000+0.j\n",
       "   0.00000000-0.70710678j]\n",
       " [ 0.00000000-0.70710678j  0.00000000+0.j          0.70710678+0.j\n",
       "   0.00000000+0.j        ]\n",
       " [ 0.00000000+0.j          0.00000000-0.70710678j  0.00000000+0.j\n",
       "   0.70710678+0.j        ]]"
      ]
     },
     "metadata": {},
     "output_type": "display_data"
    },
    {
     "name": "stdout",
     "output_type": "stream",
     "text": [
      "X-HALF 0\n",
      "X-HALF 1\n",
      "\n"
     ]
    },
    {
     "data": {
      "text/latex": [
       "Quantum object: dims = [[2, 2], [2, 2]], shape = (4, 4), type = oper, isherm = False\\begin{equation*}\\left(\\begin{array}{*{11}c}0.500 & -0.500j & -0.500j & -0.500\\\\-0.500j & 0.500 & -0.500 & -0.500j\\\\-0.500j & -0.500 & 0.500 & -0.500j\\\\-0.500 & -0.500j & -0.500j & 0.500\\\\\\end{array}\\right)\\end{equation*}"
      ],
      "text/plain": [
       "Quantum object: dims = [[2, 2], [2, 2]], shape = (4, 4), type = oper, isherm = False\n",
       "Qobj data =\n",
       "[[ 0.5+0.j   0.0-0.5j  0.0-0.5j -0.5+0.j ]\n",
       " [ 0.0-0.5j  0.5+0.j  -0.5+0.j   0.0-0.5j]\n",
       " [ 0.0-0.5j -0.5+0.j   0.5+0.j   0.0-0.5j]\n",
       " [-0.5+0.j   0.0-0.5j  0.0-0.5j  0.5+0.j ]]"
      ]
     },
     "metadata": {},
     "output_type": "display_data"
    },
    {
     "name": "stdout",
     "output_type": "stream",
     "text": [
      "X-HALF 0\n",
      "Y-HALF 1\n",
      "\n"
     ]
    },
    {
     "data": {
      "text/latex": [
       "Quantum object: dims = [[2, 2], [2, 2]], shape = (4, 4), type = oper, isherm = False\\begin{equation*}\\left(\\begin{array}{*{11}c}0.500 & -0.500 & -0.500j & 0.500j\\\\0.500 & 0.500 & -0.500j & -0.500j\\\\-0.500j & 0.500j & 0.500 & -0.500\\\\-0.500j & -0.500j & 0.500 & 0.500\\\\\\end{array}\\right)\\end{equation*}"
      ],
      "text/plain": [
       "Quantum object: dims = [[2, 2], [2, 2]], shape = (4, 4), type = oper, isherm = False\n",
       "Qobj data =\n",
       "[[ 0.5+0.j  -0.5+0.j   0.0-0.5j  0.0+0.5j]\n",
       " [ 0.5+0.j   0.5+0.j   0.0-0.5j  0.0-0.5j]\n",
       " [ 0.0-0.5j  0.0+0.5j  0.5+0.j  -0.5+0.j ]\n",
       " [ 0.0-0.5j  0.0-0.5j  0.5+0.j   0.5+0.j ]]"
      ]
     },
     "metadata": {},
     "output_type": "display_data"
    },
    {
     "name": "stdout",
     "output_type": "stream",
     "text": [
      "X-HALF 0\n",
      "X 1\n",
      "\n"
     ]
    },
    {
     "data": {
      "text/latex": [
       "Quantum object: dims = [[2, 2], [2, 2]], shape = (4, 4), type = oper, isherm = False\\begin{equation*}\\left(\\begin{array}{*{11}c}0.0 & -0.707j & 0.0 & -0.707\\\\-0.707j & 0.0 & -0.707 & 0.0\\\\0.0 & -0.707 & 0.0 & -0.707j\\\\-0.707 & 0.0 & -0.707j & 0.0\\\\\\end{array}\\right)\\end{equation*}"
      ],
      "text/plain": [
       "Quantum object: dims = [[2, 2], [2, 2]], shape = (4, 4), type = oper, isherm = False\n",
       "Qobj data =\n",
       "[[ 0.00000000+0.j          0.00000000-0.70710678j  0.00000000+0.j\n",
       "  -0.70710678+0.j        ]\n",
       " [ 0.00000000-0.70710678j  0.00000000+0.j         -0.70710678+0.j\n",
       "   0.00000000+0.j        ]\n",
       " [ 0.00000000+0.j         -0.70710678+0.j          0.00000000+0.j\n",
       "   0.00000000-0.70710678j]\n",
       " [-0.70710678+0.j          0.00000000+0.j          0.00000000-0.70710678j\n",
       "   0.00000000+0.j        ]]"
      ]
     },
     "metadata": {},
     "output_type": "display_data"
    },
    {
     "name": "stdout",
     "output_type": "stream",
     "text": [
      "Y-HALF 0\n",
      "I 1\n",
      "\n"
     ]
    },
    {
     "data": {
      "text/latex": [
       "Quantum object: dims = [[2, 2], [2, 2]], shape = (4, 4), type = oper, isherm = False\\begin{equation*}\\left(\\begin{array}{*{11}c}0.707 & 0.0 & -0.707 & 0.0\\\\0.0 & 0.707 & 0.0 & -0.707\\\\0.707 & 0.0 & 0.707 & 0.0\\\\0.0 & 0.707 & 0.0 & 0.707\\\\\\end{array}\\right)\\end{equation*}"
      ],
      "text/plain": [
       "Quantum object: dims = [[2, 2], [2, 2]], shape = (4, 4), type = oper, isherm = False\n",
       "Qobj data =\n",
       "[[ 0.70710678  0.         -0.70710678  0.        ]\n",
       " [ 0.          0.70710678  0.         -0.70710678]\n",
       " [ 0.70710678  0.          0.70710678  0.        ]\n",
       " [ 0.          0.70710678  0.          0.70710678]]"
      ]
     },
     "metadata": {},
     "output_type": "display_data"
    },
    {
     "name": "stdout",
     "output_type": "stream",
     "text": [
      "Y-HALF 0\n",
      "X-HALF 1\n",
      "\n"
     ]
    },
    {
     "data": {
      "text/latex": [
       "Quantum object: dims = [[2, 2], [2, 2]], shape = (4, 4), type = oper, isherm = False\\begin{equation*}\\left(\\begin{array}{*{11}c}0.500 & -0.500j & -0.500 & 0.500j\\\\-0.500j & 0.500 & 0.500j & -0.500\\\\0.500 & -0.500j & 0.500 & -0.500j\\\\-0.500j & 0.500 & -0.500j & 0.500\\\\\\end{array}\\right)\\end{equation*}"
      ],
      "text/plain": [
       "Quantum object: dims = [[2, 2], [2, 2]], shape = (4, 4), type = oper, isherm = False\n",
       "Qobj data =\n",
       "[[ 0.5+0.j   0.0-0.5j -0.5+0.j   0.0+0.5j]\n",
       " [ 0.0-0.5j  0.5+0.j   0.0+0.5j -0.5+0.j ]\n",
       " [ 0.5+0.j   0.0-0.5j  0.5+0.j   0.0-0.5j]\n",
       " [ 0.0-0.5j  0.5+0.j   0.0-0.5j  0.5+0.j ]]"
      ]
     },
     "metadata": {},
     "output_type": "display_data"
    },
    {
     "name": "stdout",
     "output_type": "stream",
     "text": [
      "Y-HALF 0\n",
      "Y-HALF 1\n",
      "\n"
     ]
    },
    {
     "data": {
      "text/latex": [
       "Quantum object: dims = [[2, 2], [2, 2]], shape = (4, 4), type = oper, isherm = False\\begin{equation*}\\left(\\begin{array}{*{11}c}0.500 & -0.500 & -0.500 & 0.500\\\\0.500 & 0.500 & -0.500 & -0.500\\\\0.500 & -0.500 & 0.500 & -0.500\\\\0.500 & 0.500 & 0.500 & 0.500\\\\\\end{array}\\right)\\end{equation*}"
      ],
      "text/plain": [
       "Quantum object: dims = [[2, 2], [2, 2]], shape = (4, 4), type = oper, isherm = False\n",
       "Qobj data =\n",
       "[[ 0.5 -0.5 -0.5  0.5]\n",
       " [ 0.5  0.5 -0.5 -0.5]\n",
       " [ 0.5 -0.5  0.5 -0.5]\n",
       " [ 0.5  0.5  0.5  0.5]]"
      ]
     },
     "metadata": {},
     "output_type": "display_data"
    },
    {
     "name": "stdout",
     "output_type": "stream",
     "text": [
      "Y-HALF 0\n",
      "X 1\n",
      "\n"
     ]
    },
    {
     "data": {
      "text/latex": [
       "Quantum object: dims = [[2, 2], [2, 2]], shape = (4, 4), type = oper, isherm = False\\begin{equation*}\\left(\\begin{array}{*{11}c}0.0 & -0.707j & 0.0 & 0.707j\\\\-0.707j & 0.0 & 0.707j & 0.0\\\\0.0 & -0.707j & 0.0 & -0.707j\\\\-0.707j & 0.0 & -0.707j & 0.0\\\\\\end{array}\\right)\\end{equation*}"
      ],
      "text/plain": [
       "Quantum object: dims = [[2, 2], [2, 2]], shape = (4, 4), type = oper, isherm = False\n",
       "Qobj data =\n",
       "[[ 0.+0.j          0.-0.70710678j  0.+0.j          0.+0.70710678j]\n",
       " [ 0.-0.70710678j  0.+0.j          0.+0.70710678j  0.+0.j        ]\n",
       " [ 0.+0.j          0.-0.70710678j  0.+0.j          0.-0.70710678j]\n",
       " [ 0.-0.70710678j  0.+0.j          0.-0.70710678j  0.+0.j        ]]"
      ]
     },
     "metadata": {},
     "output_type": "display_data"
    },
    {
     "name": "stdout",
     "output_type": "stream",
     "text": [
      "X 0\n",
      "I 1\n",
      "\n"
     ]
    },
    {
     "data": {
      "text/latex": [
       "Quantum object: dims = [[2, 2], [2, 2]], shape = (4, 4), type = oper, isherm = False\\begin{equation*}\\left(\\begin{array}{*{11}c}0.0 & 0.0 & -1.0j & 0.0\\\\0.0 & 0.0 & 0.0 & -1.0j\\\\-1.0j & 0.0 & 0.0 & 0.0\\\\0.0 & -1.0j & 0.0 & 0.0\\\\\\end{array}\\right)\\end{equation*}"
      ],
      "text/plain": [
       "Quantum object: dims = [[2, 2], [2, 2]], shape = (4, 4), type = oper, isherm = False\n",
       "Qobj data =\n",
       "[[ 0.+0.j  0.+0.j  0.-1.j  0.+0.j]\n",
       " [ 0.+0.j  0.+0.j  0.+0.j  0.-1.j]\n",
       " [ 0.-1.j  0.+0.j  0.+0.j  0.+0.j]\n",
       " [ 0.+0.j  0.-1.j  0.+0.j  0.+0.j]]"
      ]
     },
     "metadata": {},
     "output_type": "display_data"
    },
    {
     "name": "stdout",
     "output_type": "stream",
     "text": [
      "X 0\n",
      "X-HALF 1\n",
      "\n"
     ]
    },
    {
     "data": {
      "text/latex": [
       "Quantum object: dims = [[2, 2], [2, 2]], shape = (4, 4), type = oper, isherm = False\\begin{equation*}\\left(\\begin{array}{*{11}c}0.0 & 0.0 & -0.707j & -0.707\\\\0.0 & 0.0 & -0.707 & -0.707j\\\\-0.707j & -0.707 & 0.0 & 0.0\\\\-0.707 & -0.707j & 0.0 & 0.0\\\\\\end{array}\\right)\\end{equation*}"
      ],
      "text/plain": [
       "Quantum object: dims = [[2, 2], [2, 2]], shape = (4, 4), type = oper, isherm = False\n",
       "Qobj data =\n",
       "[[ 0.00000000+0.j          0.00000000+0.j          0.00000000-0.70710678j\n",
       "  -0.70710678+0.j        ]\n",
       " [ 0.00000000+0.j          0.00000000+0.j         -0.70710678+0.j\n",
       "   0.00000000-0.70710678j]\n",
       " [ 0.00000000-0.70710678j -0.70710678+0.j          0.00000000+0.j\n",
       "   0.00000000+0.j        ]\n",
       " [-0.70710678+0.j          0.00000000-0.70710678j  0.00000000+0.j\n",
       "   0.00000000+0.j        ]]"
      ]
     },
     "metadata": {},
     "output_type": "display_data"
    },
    {
     "name": "stdout",
     "output_type": "stream",
     "text": [
      "X 0\n",
      "Y-HALF 1\n",
      "\n"
     ]
    },
    {
     "data": {
      "text/latex": [
       "Quantum object: dims = [[2, 2], [2, 2]], shape = (4, 4), type = oper, isherm = False\\begin{equation*}\\left(\\begin{array}{*{11}c}0.0 & 0.0 & -0.707j & 0.707j\\\\0.0 & 0.0 & -0.707j & -0.707j\\\\-0.707j & 0.707j & 0.0 & 0.0\\\\-0.707j & -0.707j & 0.0 & 0.0\\\\\\end{array}\\right)\\end{equation*}"
      ],
      "text/plain": [
       "Quantum object: dims = [[2, 2], [2, 2]], shape = (4, 4), type = oper, isherm = False\n",
       "Qobj data =\n",
       "[[ 0.+0.j          0.+0.j          0.-0.70710678j  0.+0.70710678j]\n",
       " [ 0.+0.j          0.+0.j          0.-0.70710678j  0.-0.70710678j]\n",
       " [ 0.-0.70710678j  0.+0.70710678j  0.+0.j          0.+0.j        ]\n",
       " [ 0.-0.70710678j  0.-0.70710678j  0.+0.j          0.+0.j        ]]"
      ]
     },
     "metadata": {},
     "output_type": "display_data"
    },
    {
     "name": "stdout",
     "output_type": "stream",
     "text": [
      "X 0\n",
      "X 1\n",
      "\n"
     ]
    },
    {
     "data": {
      "text/latex": [
       "Quantum object: dims = [[2, 2], [2, 2]], shape = (4, 4), type = oper, isherm = True\\begin{equation*}\\left(\\begin{array}{*{11}c}0.0 & 0.0 & 0.0 & -1.0\\\\0.0 & 0.0 & -1.0 & 0.0\\\\0.0 & -1.0 & 0.0 & 0.0\\\\-1.0 & 0.0 & 0.0 & 0.0\\\\\\end{array}\\right)\\end{equation*}"
      ],
      "text/plain": [
       "Quantum object: dims = [[2, 2], [2, 2]], shape = (4, 4), type = oper, isherm = True\n",
       "Qobj data =\n",
       "[[ 0.  0.  0. -1.]\n",
       " [ 0.  0. -1.  0.]\n",
       " [ 0. -1.  0.  0.]\n",
       " [-1.  0.  0.  0.]]"
      ]
     },
     "metadata": {},
     "output_type": "display_data"
    }
   ],
   "source": [
    "for p in default_rotations(0, 1):\n",
    "    print(p)\n",
    "    display(quil_to_operator(p))"
   ]
  },
  {
   "cell_type": "code",
   "execution_count": 201,
   "metadata": {
    "scrolled": false
   },
   "outputs": [
    {
     "name": "stdout",
     "output_type": "stream",
     "text": [
      "DEFGATE X-HALF:\n",
      "    0.70710678118654757+0.0i, 0.0-0.70710678118654757i\n",
      "    0.0-0.70710678118654757i, 0.70710678118654757+0.0i\n",
      "\n",
      "DEFGATE MINUS-Y-HALF:\n",
      "    0.70710678118654757+0.0i, 0.70710678118654757+0.0i\n",
      "    -0.70710678118654746+0.0i, 0.70710678118654757+0.0i\n",
      "\n",
      "DEFGATE Y-HALF:\n",
      "    0.70710678118654757+0.0i, -0.70710678118654757+0.0i\n",
      "    0.70710678118654746+0.0i, 0.70710678118654757+0.0i\n",
      "\n",
      "DEFGATE I:\n",
      "    1.0+0.0i, 0.0+0.0i\n",
      "    0.0+0.0i, 1.0+0.0i\n",
      "\n",
      "DEFGATE MINUS-Y:\n",
      "    0.0+0.0i, 1.0+0.0i\n",
      "    -1.0+0.0i, 0.0+0.0i\n",
      "\n",
      "DEFGATE MINUS-X-HALF:\n",
      "    0.70710678118654757+0.0i, 0.0+0.70710678118654757i\n",
      "    0.0+0.70710678118654757i, 0.70710678118654757+0.0i\n",
      "\n",
      "DEFGATE Y:\n",
      "    0.0+0.0i, -1.0+0.0i\n",
      "    1.0+0.0i, 0.0+0.0i\n",
      "\n",
      "DEFGATE X:\n",
      "    0.0+0.0i, 0.0-1.0i\n",
      "    0.0-1.0i, 0.0+0.0i\n",
      "\n",
      "DEFGATE MINUS-X:\n",
      "    0.0+0.0i, 0.0+1.0i\n",
      "    0.0+1.0i, 0.0+0.0i\n",
      "\n",
      "X 0\n",
      "Y 1\n",
      "I 0\n",
      "I 1\n",
      "\n",
      "DEFGATE X-HALF:\n",
      "    0.70710678118654757+0.0i, 0.0-0.70710678118654757i\n",
      "    0.0-0.70710678118654757i, 0.70710678118654757+0.0i\n",
      "\n",
      "DEFGATE MINUS-Y-HALF:\n",
      "    0.70710678118654757+0.0i, 0.70710678118654757+0.0i\n",
      "    -0.70710678118654746+0.0i, 0.70710678118654757+0.0i\n",
      "\n",
      "DEFGATE Y-HALF:\n",
      "    0.70710678118654757+0.0i, -0.70710678118654757+0.0i\n",
      "    0.70710678118654746+0.0i, 0.70710678118654757+0.0i\n",
      "\n",
      "DEFGATE I:\n",
      "    1.0+0.0i, 0.0+0.0i\n",
      "    0.0+0.0i, 1.0+0.0i\n",
      "\n",
      "DEFGATE MINUS-Y:\n",
      "    0.0+0.0i, 1.0+0.0i\n",
      "    -1.0+0.0i, 0.0+0.0i\n",
      "\n",
      "DEFGATE MINUS-X-HALF:\n",
      "    0.70710678118654757+0.0i, 0.0+0.70710678118654757i\n",
      "    0.0+0.70710678118654757i, 0.70710678118654757+0.0i\n",
      "\n",
      "DEFGATE Y:\n",
      "    0.0+0.0i, -1.0+0.0i\n",
      "    1.0+0.0i, 0.0+0.0i\n",
      "\n",
      "DEFGATE X:\n",
      "    0.0+0.0i, 0.0-1.0i\n",
      "    0.0-1.0i, 0.0+0.0i\n",
      "\n",
      "DEFGATE MINUS-X:\n",
      "    0.0+0.0i, 0.0+1.0i\n",
      "    0.0+1.0i, 0.0+0.0i\n",
      "\n",
      "X 0\n",
      "Y 1\n",
      "I 0\n",
      "X-HALF 1\n",
      "\n",
      "DEFGATE X-HALF:\n",
      "    0.70710678118654757+0.0i, 0.0-0.70710678118654757i\n",
      "    0.0-0.70710678118654757i, 0.70710678118654757+0.0i\n",
      "\n",
      "DEFGATE MINUS-Y-HALF:\n",
      "    0.70710678118654757+0.0i, 0.70710678118654757+0.0i\n",
      "    -0.70710678118654746+0.0i, 0.70710678118654757+0.0i\n",
      "\n",
      "DEFGATE Y-HALF:\n",
      "    0.70710678118654757+0.0i, -0.70710678118654757+0.0i\n",
      "    0.70710678118654746+0.0i, 0.70710678118654757+0.0i\n",
      "\n",
      "DEFGATE I:\n",
      "    1.0+0.0i, 0.0+0.0i\n",
      "    0.0+0.0i, 1.0+0.0i\n",
      "\n",
      "DEFGATE MINUS-Y:\n",
      "    0.0+0.0i, 1.0+0.0i\n",
      "    -1.0+0.0i, 0.0+0.0i\n",
      "\n",
      "DEFGATE MINUS-X-HALF:\n",
      "    0.70710678118654757+0.0i, 0.0+0.70710678118654757i\n",
      "    0.0+0.70710678118654757i, 0.70710678118654757+0.0i\n",
      "\n",
      "DEFGATE Y:\n",
      "    0.0+0.0i, -1.0+0.0i\n",
      "    1.0+0.0i, 0.0+0.0i\n",
      "\n",
      "DEFGATE X:\n",
      "    0.0+0.0i, 0.0-1.0i\n",
      "    0.0-1.0i, 0.0+0.0i\n",
      "\n",
      "DEFGATE MINUS-X:\n",
      "    0.0+0.0i, 0.0+1.0i\n",
      "    0.0+1.0i, 0.0+0.0i\n",
      "\n",
      "X 0\n",
      "Y 1\n",
      "I 0\n",
      "Y-HALF 1\n",
      "\n",
      "DEFGATE X-HALF:\n",
      "    0.70710678118654757+0.0i, 0.0-0.70710678118654757i\n",
      "    0.0-0.70710678118654757i, 0.70710678118654757+0.0i\n",
      "\n",
      "DEFGATE MINUS-Y-HALF:\n",
      "    0.70710678118654757+0.0i, 0.70710678118654757+0.0i\n",
      "    -0.70710678118654746+0.0i, 0.70710678118654757+0.0i\n",
      "\n",
      "DEFGATE Y-HALF:\n",
      "    0.70710678118654757+0.0i, -0.70710678118654757+0.0i\n",
      "    0.70710678118654746+0.0i, 0.70710678118654757+0.0i\n",
      "\n",
      "DEFGATE I:\n",
      "    1.0+0.0i, 0.0+0.0i\n",
      "    0.0+0.0i, 1.0+0.0i\n",
      "\n",
      "DEFGATE MINUS-Y:\n",
      "    0.0+0.0i, 1.0+0.0i\n",
      "    -1.0+0.0i, 0.0+0.0i\n",
      "\n",
      "DEFGATE MINUS-X-HALF:\n",
      "    0.70710678118654757+0.0i, 0.0+0.70710678118654757i\n",
      "    0.0+0.70710678118654757i, 0.70710678118654757+0.0i\n",
      "\n",
      "DEFGATE Y:\n",
      "    0.0+0.0i, -1.0+0.0i\n",
      "    1.0+0.0i, 0.0+0.0i\n",
      "\n",
      "DEFGATE X:\n",
      "    0.0+0.0i, 0.0-1.0i\n",
      "    0.0-1.0i, 0.0+0.0i\n",
      "\n",
      "DEFGATE MINUS-X:\n",
      "    0.0+0.0i, 0.0+1.0i\n",
      "    0.0+1.0i, 0.0+0.0i\n",
      "\n",
      "X 0\n",
      "Y 1\n",
      "I 0\n",
      "X 1\n",
      "\n",
      "DEFGATE X-HALF:\n",
      "    0.70710678118654757+0.0i, 0.0-0.70710678118654757i\n",
      "    0.0-0.70710678118654757i, 0.70710678118654757+0.0i\n",
      "\n",
      "DEFGATE MINUS-Y-HALF:\n",
      "    0.70710678118654757+0.0i, 0.70710678118654757+0.0i\n",
      "    -0.70710678118654746+0.0i, 0.70710678118654757+0.0i\n",
      "\n",
      "DEFGATE Y-HALF:\n",
      "    0.70710678118654757+0.0i, -0.70710678118654757+0.0i\n",
      "    0.70710678118654746+0.0i, 0.70710678118654757+0.0i\n",
      "\n",
      "DEFGATE I:\n",
      "    1.0+0.0i, 0.0+0.0i\n",
      "    0.0+0.0i, 1.0+0.0i\n",
      "\n",
      "DEFGATE MINUS-Y:\n",
      "    0.0+0.0i, 1.0+0.0i\n",
      "    -1.0+0.0i, 0.0+0.0i\n",
      "\n",
      "DEFGATE MINUS-X-HALF:\n",
      "    0.70710678118654757+0.0i, 0.0+0.70710678118654757i\n",
      "    0.0+0.70710678118654757i, 0.70710678118654757+0.0i\n",
      "\n",
      "DEFGATE Y:\n",
      "    0.0+0.0i, -1.0+0.0i\n",
      "    1.0+0.0i, 0.0+0.0i\n",
      "\n",
      "DEFGATE X:\n",
      "    0.0+0.0i, 0.0-1.0i\n",
      "    0.0-1.0i, 0.0+0.0i\n",
      "\n",
      "DEFGATE MINUS-X:\n",
      "    0.0+0.0i, 0.0+1.0i\n",
      "    0.0+1.0i, 0.0+0.0i\n",
      "\n",
      "X 0\n",
      "Y 1\n",
      "X-HALF 0\n",
      "I 1\n",
      "\n",
      "DEFGATE X-HALF:\n",
      "    0.70710678118654757+0.0i, 0.0-0.70710678118654757i\n",
      "    0.0-0.70710678118654757i, 0.70710678118654757+0.0i\n",
      "\n",
      "DEFGATE MINUS-Y-HALF:\n",
      "    0.70710678118654757+0.0i, 0.70710678118654757+0.0i\n",
      "    -0.70710678118654746+0.0i, 0.70710678118654757+0.0i\n",
      "\n",
      "DEFGATE Y-HALF:\n",
      "    0.70710678118654757+0.0i, -0.70710678118654757+0.0i\n",
      "    0.70710678118654746+0.0i, 0.70710678118654757+0.0i\n",
      "\n",
      "DEFGATE I:\n",
      "    1.0+0.0i, 0.0+0.0i\n",
      "    0.0+0.0i, 1.0+0.0i\n",
      "\n",
      "DEFGATE MINUS-Y:\n",
      "    0.0+0.0i, 1.0+0.0i\n",
      "    -1.0+0.0i, 0.0+0.0i\n",
      "\n",
      "DEFGATE MINUS-X-HALF:\n",
      "    0.70710678118654757+0.0i, 0.0+0.70710678118654757i\n",
      "    0.0+0.70710678118654757i, 0.70710678118654757+0.0i\n",
      "\n",
      "DEFGATE Y:\n",
      "    0.0+0.0i, -1.0+0.0i\n",
      "    1.0+0.0i, 0.0+0.0i\n",
      "\n",
      "DEFGATE X:\n",
      "    0.0+0.0i, 0.0-1.0i\n",
      "    0.0-1.0i, 0.0+0.0i\n",
      "\n",
      "DEFGATE MINUS-X:\n",
      "    0.0+0.0i, 0.0+1.0i\n",
      "    0.0+1.0i, 0.0+0.0i\n",
      "\n",
      "X 0\n",
      "Y 1\n",
      "X-HALF 0\n",
      "X-HALF 1\n",
      "\n",
      "DEFGATE X-HALF:\n",
      "    0.70710678118654757+0.0i, 0.0-0.70710678118654757i\n",
      "    0.0-0.70710678118654757i, 0.70710678118654757+0.0i\n",
      "\n",
      "DEFGATE MINUS-Y-HALF:\n",
      "    0.70710678118654757+0.0i, 0.70710678118654757+0.0i\n",
      "    -0.70710678118654746+0.0i, 0.70710678118654757+0.0i\n",
      "\n",
      "DEFGATE Y-HALF:\n",
      "    0.70710678118654757+0.0i, -0.70710678118654757+0.0i\n",
      "    0.70710678118654746+0.0i, 0.70710678118654757+0.0i\n",
      "\n",
      "DEFGATE I:\n",
      "    1.0+0.0i, 0.0+0.0i\n",
      "    0.0+0.0i, 1.0+0.0i\n",
      "\n",
      "DEFGATE MINUS-Y:\n",
      "    0.0+0.0i, 1.0+0.0i\n",
      "    -1.0+0.0i, 0.0+0.0i\n",
      "\n",
      "DEFGATE MINUS-X-HALF:\n",
      "    0.70710678118654757+0.0i, 0.0+0.70710678118654757i\n",
      "    0.0+0.70710678118654757i, 0.70710678118654757+0.0i\n",
      "\n",
      "DEFGATE Y:\n",
      "    0.0+0.0i, -1.0+0.0i\n",
      "    1.0+0.0i, 0.0+0.0i\n",
      "\n",
      "DEFGATE X:\n",
      "    0.0+0.0i, 0.0-1.0i\n",
      "    0.0-1.0i, 0.0+0.0i\n",
      "\n",
      "DEFGATE MINUS-X:\n",
      "    0.0+0.0i, 0.0+1.0i\n",
      "    0.0+1.0i, 0.0+0.0i\n",
      "\n",
      "X 0\n",
      "Y 1\n",
      "X-HALF 0\n",
      "Y-HALF 1\n",
      "\n",
      "DEFGATE X-HALF:\n",
      "    0.70710678118654757+0.0i, 0.0-0.70710678118654757i\n",
      "    0.0-0.70710678118654757i, 0.70710678118654757+0.0i\n",
      "\n",
      "DEFGATE MINUS-Y-HALF:\n",
      "    0.70710678118654757+0.0i, 0.70710678118654757+0.0i\n",
      "    -0.70710678118654746+0.0i, 0.70710678118654757+0.0i\n",
      "\n",
      "DEFGATE Y-HALF:\n",
      "    0.70710678118654757+0.0i, -0.70710678118654757+0.0i\n",
      "    0.70710678118654746+0.0i, 0.70710678118654757+0.0i\n",
      "\n",
      "DEFGATE I:\n",
      "    1.0+0.0i, 0.0+0.0i\n",
      "    0.0+0.0i, 1.0+0.0i\n",
      "\n",
      "DEFGATE MINUS-Y:\n",
      "    0.0+0.0i, 1.0+0.0i\n",
      "    -1.0+0.0i, 0.0+0.0i\n",
      "\n",
      "DEFGATE MINUS-X-HALF:\n",
      "    0.70710678118654757+0.0i, 0.0+0.70710678118654757i\n",
      "    0.0+0.70710678118654757i, 0.70710678118654757+0.0i\n",
      "\n",
      "DEFGATE Y:\n",
      "    0.0+0.0i, -1.0+0.0i\n",
      "    1.0+0.0i, 0.0+0.0i\n",
      "\n",
      "DEFGATE X:\n",
      "    0.0+0.0i, 0.0-1.0i\n",
      "    0.0-1.0i, 0.0+0.0i\n",
      "\n",
      "DEFGATE MINUS-X:\n",
      "    0.0+0.0i, 0.0+1.0i\n",
      "    0.0+1.0i, 0.0+0.0i\n",
      "\n",
      "X 0\n",
      "Y 1\n",
      "X-HALF 0\n",
      "X 1\n",
      "\n",
      "DEFGATE X-HALF:\n",
      "    0.70710678118654757+0.0i, 0.0-0.70710678118654757i\n",
      "    0.0-0.70710678118654757i, 0.70710678118654757+0.0i\n",
      "\n",
      "DEFGATE MINUS-Y-HALF:\n",
      "    0.70710678118654757+0.0i, 0.70710678118654757+0.0i\n",
      "    -0.70710678118654746+0.0i, 0.70710678118654757+0.0i\n",
      "\n",
      "DEFGATE Y-HALF:\n",
      "    0.70710678118654757+0.0i, -0.70710678118654757+0.0i\n",
      "    0.70710678118654746+0.0i, 0.70710678118654757+0.0i\n",
      "\n",
      "DEFGATE I:\n",
      "    1.0+0.0i, 0.0+0.0i\n",
      "    0.0+0.0i, 1.0+0.0i\n",
      "\n",
      "DEFGATE MINUS-Y:\n",
      "    0.0+0.0i, 1.0+0.0i\n",
      "    -1.0+0.0i, 0.0+0.0i\n",
      "\n",
      "DEFGATE MINUS-X-HALF:\n",
      "    0.70710678118654757+0.0i, 0.0+0.70710678118654757i\n",
      "    0.0+0.70710678118654757i, 0.70710678118654757+0.0i\n",
      "\n",
      "DEFGATE Y:\n",
      "    0.0+0.0i, -1.0+0.0i\n",
      "    1.0+0.0i, 0.0+0.0i\n",
      "\n",
      "DEFGATE X:\n",
      "    0.0+0.0i, 0.0-1.0i\n",
      "    0.0-1.0i, 0.0+0.0i\n",
      "\n",
      "DEFGATE MINUS-X:\n",
      "    0.0+0.0i, 0.0+1.0i\n",
      "    0.0+1.0i, 0.0+0.0i\n",
      "\n",
      "X 0\n",
      "Y 1\n",
      "Y-HALF 0\n",
      "I 1\n",
      "\n",
      "DEFGATE X-HALF:\n",
      "    0.70710678118654757+0.0i, 0.0-0.70710678118654757i\n",
      "    0.0-0.70710678118654757i, 0.70710678118654757+0.0i\n",
      "\n",
      "DEFGATE MINUS-Y-HALF:\n",
      "    0.70710678118654757+0.0i, 0.70710678118654757+0.0i\n",
      "    -0.70710678118654746+0.0i, 0.70710678118654757+0.0i\n",
      "\n",
      "DEFGATE Y-HALF:\n",
      "    0.70710678118654757+0.0i, -0.70710678118654757+0.0i\n",
      "    0.70710678118654746+0.0i, 0.70710678118654757+0.0i\n",
      "\n",
      "DEFGATE I:\n",
      "    1.0+0.0i, 0.0+0.0i\n",
      "    0.0+0.0i, 1.0+0.0i\n",
      "\n",
      "DEFGATE MINUS-Y:\n",
      "    0.0+0.0i, 1.0+0.0i\n",
      "    -1.0+0.0i, 0.0+0.0i\n",
      "\n",
      "DEFGATE MINUS-X-HALF:\n",
      "    0.70710678118654757+0.0i, 0.0+0.70710678118654757i\n",
      "    0.0+0.70710678118654757i, 0.70710678118654757+0.0i\n",
      "\n",
      "DEFGATE Y:\n",
      "    0.0+0.0i, -1.0+0.0i\n",
      "    1.0+0.0i, 0.0+0.0i\n",
      "\n",
      "DEFGATE X:\n",
      "    0.0+0.0i, 0.0-1.0i\n",
      "    0.0-1.0i, 0.0+0.0i\n",
      "\n",
      "DEFGATE MINUS-X:\n",
      "    0.0+0.0i, 0.0+1.0i\n",
      "    0.0+1.0i, 0.0+0.0i\n",
      "\n",
      "X 0\n",
      "Y 1\n",
      "Y-HALF 0\n",
      "X-HALF 1\n",
      "\n",
      "DEFGATE X-HALF:\n",
      "    0.70710678118654757+0.0i, 0.0-0.70710678118654757i\n",
      "    0.0-0.70710678118654757i, 0.70710678118654757+0.0i\n",
      "\n",
      "DEFGATE MINUS-Y-HALF:\n",
      "    0.70710678118654757+0.0i, 0.70710678118654757+0.0i\n",
      "    -0.70710678118654746+0.0i, 0.70710678118654757+0.0i\n",
      "\n",
      "DEFGATE Y-HALF:\n",
      "    0.70710678118654757+0.0i, -0.70710678118654757+0.0i\n",
      "    0.70710678118654746+0.0i, 0.70710678118654757+0.0i\n",
      "\n",
      "DEFGATE I:\n",
      "    1.0+0.0i, 0.0+0.0i\n",
      "    0.0+0.0i, 1.0+0.0i\n",
      "\n",
      "DEFGATE MINUS-Y:\n",
      "    0.0+0.0i, 1.0+0.0i\n",
      "    -1.0+0.0i, 0.0+0.0i\n",
      "\n",
      "DEFGATE MINUS-X-HALF:\n",
      "    0.70710678118654757+0.0i, 0.0+0.70710678118654757i\n",
      "    0.0+0.70710678118654757i, 0.70710678118654757+0.0i\n",
      "\n",
      "DEFGATE Y:\n",
      "    0.0+0.0i, -1.0+0.0i\n",
      "    1.0+0.0i, 0.0+0.0i\n",
      "\n",
      "DEFGATE X:\n",
      "    0.0+0.0i, 0.0-1.0i\n",
      "    0.0-1.0i, 0.0+0.0i\n",
      "\n",
      "DEFGATE MINUS-X:\n",
      "    0.0+0.0i, 0.0+1.0i\n",
      "    0.0+1.0i, 0.0+0.0i\n",
      "\n",
      "X 0\n",
      "Y 1\n",
      "Y-HALF 0\n",
      "Y-HALF 1\n",
      "\n",
      "DEFGATE X-HALF:\n",
      "    0.70710678118654757+0.0i, 0.0-0.70710678118654757i\n",
      "    0.0-0.70710678118654757i, 0.70710678118654757+0.0i\n",
      "\n",
      "DEFGATE MINUS-Y-HALF:\n",
      "    0.70710678118654757+0.0i, 0.70710678118654757+0.0i\n",
      "    -0.70710678118654746+0.0i, 0.70710678118654757+0.0i\n",
      "\n",
      "DEFGATE Y-HALF:\n",
      "    0.70710678118654757+0.0i, -0.70710678118654757+0.0i\n",
      "    0.70710678118654746+0.0i, 0.70710678118654757+0.0i\n",
      "\n",
      "DEFGATE I:\n",
      "    1.0+0.0i, 0.0+0.0i\n",
      "    0.0+0.0i, 1.0+0.0i\n",
      "\n",
      "DEFGATE MINUS-Y:\n",
      "    0.0+0.0i, 1.0+0.0i\n",
      "    -1.0+0.0i, 0.0+0.0i\n",
      "\n",
      "DEFGATE MINUS-X-HALF:\n",
      "    0.70710678118654757+0.0i, 0.0+0.70710678118654757i\n",
      "    0.0+0.70710678118654757i, 0.70710678118654757+0.0i\n",
      "\n",
      "DEFGATE Y:\n",
      "    0.0+0.0i, -1.0+0.0i\n",
      "    1.0+0.0i, 0.0+0.0i\n",
      "\n",
      "DEFGATE X:\n",
      "    0.0+0.0i, 0.0-1.0i\n",
      "    0.0-1.0i, 0.0+0.0i\n",
      "\n",
      "DEFGATE MINUS-X:\n",
      "    0.0+0.0i, 0.0+1.0i\n",
      "    0.0+1.0i, 0.0+0.0i\n",
      "\n",
      "X 0\n",
      "Y 1\n",
      "Y-HALF 0\n",
      "X 1\n",
      "\n",
      "DEFGATE X-HALF:\n",
      "    0.70710678118654757+0.0i, 0.0-0.70710678118654757i\n",
      "    0.0-0.70710678118654757i, 0.70710678118654757+0.0i\n",
      "\n",
      "DEFGATE MINUS-Y-HALF:\n",
      "    0.70710678118654757+0.0i, 0.70710678118654757+0.0i\n",
      "    -0.70710678118654746+0.0i, 0.70710678118654757+0.0i\n",
      "\n",
      "DEFGATE Y-HALF:\n",
      "    0.70710678118654757+0.0i, -0.70710678118654757+0.0i\n",
      "    0.70710678118654746+0.0i, 0.70710678118654757+0.0i\n",
      "\n",
      "DEFGATE I:\n",
      "    1.0+0.0i, 0.0+0.0i\n",
      "    0.0+0.0i, 1.0+0.0i\n",
      "\n",
      "DEFGATE MINUS-Y:\n",
      "    0.0+0.0i, 1.0+0.0i\n",
      "    -1.0+0.0i, 0.0+0.0i\n",
      "\n",
      "DEFGATE MINUS-X-HALF:\n",
      "    0.70710678118654757+0.0i, 0.0+0.70710678118654757i\n",
      "    0.0+0.70710678118654757i, 0.70710678118654757+0.0i\n",
      "\n",
      "DEFGATE Y:\n",
      "    0.0+0.0i, -1.0+0.0i\n",
      "    1.0+0.0i, 0.0+0.0i\n",
      "\n",
      "DEFGATE X:\n",
      "    0.0+0.0i, 0.0-1.0i\n",
      "    0.0-1.0i, 0.0+0.0i\n",
      "\n",
      "DEFGATE MINUS-X:\n",
      "    0.0+0.0i, 0.0+1.0i\n",
      "    0.0+1.0i, 0.0+0.0i\n",
      "\n",
      "X 0\n",
      "Y 1\n",
      "X 0\n",
      "I 1\n",
      "\n",
      "DEFGATE X-HALF:\n",
      "    0.70710678118654757+0.0i, 0.0-0.70710678118654757i\n",
      "    0.0-0.70710678118654757i, 0.70710678118654757+0.0i\n",
      "\n",
      "DEFGATE MINUS-Y-HALF:\n",
      "    0.70710678118654757+0.0i, 0.70710678118654757+0.0i\n",
      "    -0.70710678118654746+0.0i, 0.70710678118654757+0.0i\n",
      "\n",
      "DEFGATE Y-HALF:\n",
      "    0.70710678118654757+0.0i, -0.70710678118654757+0.0i\n",
      "    0.70710678118654746+0.0i, 0.70710678118654757+0.0i\n",
      "\n",
      "DEFGATE I:\n",
      "    1.0+0.0i, 0.0+0.0i\n",
      "    0.0+0.0i, 1.0+0.0i\n",
      "\n",
      "DEFGATE MINUS-Y:\n",
      "    0.0+0.0i, 1.0+0.0i\n",
      "    -1.0+0.0i, 0.0+0.0i\n",
      "\n",
      "DEFGATE MINUS-X-HALF:\n",
      "    0.70710678118654757+0.0i, 0.0+0.70710678118654757i\n",
      "    0.0+0.70710678118654757i, 0.70710678118654757+0.0i\n",
      "\n",
      "DEFGATE Y:\n",
      "    0.0+0.0i, -1.0+0.0i\n",
      "    1.0+0.0i, 0.0+0.0i\n",
      "\n",
      "DEFGATE X:\n",
      "    0.0+0.0i, 0.0-1.0i\n",
      "    0.0-1.0i, 0.0+0.0i\n",
      "\n",
      "DEFGATE MINUS-X:\n",
      "    0.0+0.0i, 0.0+1.0i\n",
      "    0.0+1.0i, 0.0+0.0i\n",
      "\n",
      "X 0\n",
      "Y 1\n",
      "X 0\n",
      "X-HALF 1\n",
      "\n",
      "DEFGATE X-HALF:\n",
      "    0.70710678118654757+0.0i, 0.0-0.70710678118654757i\n",
      "    0.0-0.70710678118654757i, 0.70710678118654757+0.0i\n",
      "\n",
      "DEFGATE MINUS-Y-HALF:\n",
      "    0.70710678118654757+0.0i, 0.70710678118654757+0.0i\n",
      "    -0.70710678118654746+0.0i, 0.70710678118654757+0.0i\n",
      "\n",
      "DEFGATE Y-HALF:\n",
      "    0.70710678118654757+0.0i, -0.70710678118654757+0.0i\n",
      "    0.70710678118654746+0.0i, 0.70710678118654757+0.0i\n",
      "\n",
      "DEFGATE I:\n",
      "    1.0+0.0i, 0.0+0.0i\n",
      "    0.0+0.0i, 1.0+0.0i\n",
      "\n",
      "DEFGATE MINUS-Y:\n",
      "    0.0+0.0i, 1.0+0.0i\n",
      "    -1.0+0.0i, 0.0+0.0i\n",
      "\n",
      "DEFGATE MINUS-X-HALF:\n",
      "    0.70710678118654757+0.0i, 0.0+0.70710678118654757i\n",
      "    0.0+0.70710678118654757i, 0.70710678118654757+0.0i\n",
      "\n",
      "DEFGATE Y:\n",
      "    0.0+0.0i, -1.0+0.0i\n",
      "    1.0+0.0i, 0.0+0.0i\n",
      "\n",
      "DEFGATE X:\n",
      "    0.0+0.0i, 0.0-1.0i\n",
      "    0.0-1.0i, 0.0+0.0i\n",
      "\n",
      "DEFGATE MINUS-X:\n",
      "    0.0+0.0i, 0.0+1.0i\n",
      "    0.0+1.0i, 0.0+0.0i\n",
      "\n",
      "X 0\n",
      "Y 1\n",
      "X 0\n",
      "Y-HALF 1\n",
      "\n",
      "DEFGATE X-HALF:\n",
      "    0.70710678118654757+0.0i, 0.0-0.70710678118654757i\n",
      "    0.0-0.70710678118654757i, 0.70710678118654757+0.0i\n",
      "\n",
      "DEFGATE MINUS-Y-HALF:\n",
      "    0.70710678118654757+0.0i, 0.70710678118654757+0.0i\n",
      "    -0.70710678118654746+0.0i, 0.70710678118654757+0.0i\n",
      "\n",
      "DEFGATE Y-HALF:\n",
      "    0.70710678118654757+0.0i, -0.70710678118654757+0.0i\n",
      "    0.70710678118654746+0.0i, 0.70710678118654757+0.0i\n",
      "\n",
      "DEFGATE I:\n",
      "    1.0+0.0i, 0.0+0.0i\n",
      "    0.0+0.0i, 1.0+0.0i\n",
      "\n",
      "DEFGATE MINUS-Y:\n",
      "    0.0+0.0i, 1.0+0.0i\n",
      "    -1.0+0.0i, 0.0+0.0i\n",
      "\n",
      "DEFGATE MINUS-X-HALF:\n",
      "    0.70710678118654757+0.0i, 0.0+0.70710678118654757i\n",
      "    0.0+0.70710678118654757i, 0.70710678118654757+0.0i\n",
      "\n",
      "DEFGATE Y:\n",
      "    0.0+0.0i, -1.0+0.0i\n",
      "    1.0+0.0i, 0.0+0.0i\n",
      "\n",
      "DEFGATE X:\n",
      "    0.0+0.0i, 0.0-1.0i\n",
      "    0.0-1.0i, 0.0+0.0i\n",
      "\n",
      "DEFGATE MINUS-X:\n",
      "    0.0+0.0i, 0.0+1.0i\n",
      "    0.0+1.0i, 0.0+0.0i\n",
      "\n",
      "X 0\n",
      "Y 1\n",
      "X 0\n",
      "X 1\n",
      "\n"
     ]
    }
   ],
   "source": [
    "state_prep = pq.quil.Program()\n",
    "state_prep.inst(pq.gates.X(0))\n",
    "state_prep.inst(pq.gates.Y(1))\n",
    "\n",
    "for p in state_tomography_programs(state_prep):\n",
    "    print(p)"
   ]
  },
  {
   "cell_type": "code",
   "execution_count": 6,
   "metadata": {},
   "outputs": [
    {
     "name": "stdout",
     "output_type": "stream",
     "text": [
      "I 0\n",
      "X 0\n",
      "I 0\n",
      "\n",
      "I 0\n",
      "X 0\n",
      "X-HALF 0\n",
      "\n",
      "I 0\n",
      "X 0\n",
      "Y-HALF 0\n",
      "\n",
      "I 0\n",
      "X 0\n",
      "X 0\n",
      "\n",
      "X-HALF 0\n",
      "X 0\n",
      "I 0\n",
      "\n",
      "X-HALF 0\n",
      "X 0\n",
      "X-HALF 0\n",
      "\n",
      "X-HALF 0\n",
      "X 0\n",
      "Y-HALF 0\n",
      "\n",
      "X-HALF 0\n",
      "X 0\n",
      "X 0\n",
      "\n",
      "Y-HALF 0\n",
      "X 0\n",
      "I 0\n",
      "\n",
      "Y-HALF 0\n",
      "X 0\n",
      "X-HALF 0\n",
      "\n",
      "Y-HALF 0\n",
      "X 0\n",
      "Y-HALF 0\n",
      "\n",
      "Y-HALF 0\n",
      "X 0\n",
      "X 0\n",
      "\n",
      "X 0\n",
      "X 0\n",
      "I 0\n",
      "\n",
      "X 0\n",
      "X 0\n",
      "X-HALF 0\n",
      "\n",
      "X 0\n",
      "X 0\n",
      "Y-HALF 0\n",
      "\n",
      "X 0\n",
      "X 0\n",
      "X 0\n",
      "\n"
     ]
    }
   ],
   "source": [
    "state_prep = pq.quil.Program()\n",
    "state_prep.inst(pq.gates.X(0))\n",
    "\n",
    "for p in process_tomography_programs(state_prep):\n",
    "    print(p)"
   ]
  },
  {
   "cell_type": "code",
   "execution_count": 7,
   "metadata": {},
   "outputs": [],
   "source": [
    "l1 = list(process_tomography_programs(state_prep))\n",
    "l2 = list(process_tomography_programs(state_prep))"
   ]
  },
  {
   "cell_type": "code",
   "execution_count": 205,
   "metadata": {},
   "outputs": [
    {
     "data": {
      "text/plain": [
       "{'I': Quantum object: dims = [[2], [2]], shape = (2, 2), type = oper, isherm = True\n",
       " Qobj data =\n",
       " [[ 1.  0.]\n",
       "  [ 0.  1.]],\n",
       " 'MINUS-X': Quantum object: dims = [[2], [2]], shape = (2, 2), type = oper, isherm = False\n",
       " Qobj data =\n",
       " [[ 0.+0.j  0.+1.j]\n",
       "  [ 0.+1.j  0.+0.j]],\n",
       " 'MINUS-X-HALF': Quantum object: dims = [[2], [2]], shape = (2, 2), type = oper, isherm = False\n",
       " Qobj data =\n",
       " [[ 0.70710678+0.j          0.00000000+0.70710678j]\n",
       "  [ 0.00000000+0.70710678j  0.70710678+0.j        ]],\n",
       " 'MINUS-Y': Quantum object: dims = [[2], [2]], shape = (2, 2), type = oper, isherm = False\n",
       " Qobj data =\n",
       " [[ 0.  1.]\n",
       "  [-1.  0.]],\n",
       " 'MINUS-Y-HALF': Quantum object: dims = [[2], [2]], shape = (2, 2), type = oper, isherm = False\n",
       " Qobj data =\n",
       " [[ 0.70710678  0.70710678]\n",
       "  [-0.70710678  0.70710678]],\n",
       " 'X': Quantum object: dims = [[2], [2]], shape = (2, 2), type = oper, isherm = False\n",
       " Qobj data =\n",
       " [[ 0.+0.j  0.-1.j]\n",
       "  [ 0.-1.j  0.+0.j]],\n",
       " 'X-HALF': Quantum object: dims = [[2], [2]], shape = (2, 2), type = oper, isherm = False\n",
       " Qobj data =\n",
       " [[ 0.70710678+0.j          0.00000000-0.70710678j]\n",
       "  [ 0.00000000-0.70710678j  0.70710678+0.j        ]],\n",
       " 'Y': Quantum object: dims = [[2], [2]], shape = (2, 2), type = oper, isherm = False\n",
       " Qobj data =\n",
       " [[ 0. -1.]\n",
       "  [ 1.  0.]],\n",
       " 'Y-HALF': Quantum object: dims = [[2], [2]], shape = (2, 2), type = oper, isherm = False\n",
       " Qobj data =\n",
       " [[ 0.70710678 -0.70710678]\n",
       "  [ 0.70710678  0.70710678]]}"
      ]
     },
     "execution_count": 205,
     "metadata": {},
     "output_type": "execute_result"
    }
   ],
   "source": [
    "TOMOGRAPHY_GATES"
   ]
  },
  {
   "cell_type": "code",
   "execution_count": 211,
   "metadata": {},
   "outputs": [],
   "source": [
    "cxn = SyncConnection(gate_set={k: v.data.toarray() for k, v in TOMOGRAPHY_GATES.items()})"
   ]
  },
  {
   "cell_type": "code",
   "execution_count": 219,
   "metadata": {},
   "outputs": [],
   "source": [
    "from grove.benchmarking.operator_utils import POVM_PI_BASIS, make_diagonal_povm\n",
    "from grove.benchmarking.tomography import StateTomography, ProcessTomography, DEFAULT_STATE_TOMO_SETTINGS"
   ]
  },
  {
   "cell_type": "code",
   "execution_count": 224,
   "metadata": {},
   "outputs": [],
   "source": [
    "prog = pq.quil.Program(pq.gates.Gate(\"Y-HALF\", (), [pq.quilbase.unpack_qubit(0)]))\n",
    "nq = 1\n",
    "d = 2**nq\n",
    "tomo_channels = list(default_rotations(*range(nq)))\n",
    "tomo_seq = list(state_tomography_programs(prog))\n",
    "nsamples = 1000\n",
    "\n",
    "assignment_probs = estimate_assignment_probs([0], BAD_1Q_READOUT, nsamples)\n",
    "\n",
    "histograms = np.zeros((len(tomo_seq), d))\n",
    "for jj, p in enumerate(tomo_seq):\n",
    "    histograms[jj] = make_histogram(sample_bad_readout(p, nsamples, BAD_1Q_READOUT), d)\n",
    "    \n",
    "povm = make_diagonal_povm(POVM_PI_BASIS**nq, assignment_probs)\n",
    "channel_ops = [quil_to_operator(tomo_q) for tomo_q in tomo_channels]"
   ]
  },
  {
   "cell_type": "code",
   "execution_count": 225,
   "metadata": {},
   "outputs": [
    {
     "data": {
      "text/plain": [
       "array([[ 521.,  479.],\n",
       "       [ 542.,  458.],\n",
       "       [ 133.,  867.],\n",
       "       [ 531.,  469.]])"
      ]
     },
     "execution_count": 225,
     "metadata": {},
     "output_type": "execute_result"
    }
   ],
   "source": [
    "histograms"
   ]
  },
  {
   "cell_type": "code",
   "execution_count": 226,
   "metadata": {},
   "outputs": [],
   "source": [
    "state_tomo = StateTomography.estimate_from_ssr(histograms, povm, channel_ops, DEFAULT_STATE_TOMO_SETTINGS)"
   ]
  },
  {
   "cell_type": "code",
   "execution_count": 227,
   "metadata": {},
   "outputs": [
    {
     "data": {
      "image/png": "[encoded data removed]",
      "text/plain": [
       "<matplotlib.figure.Figure at 0x1112e39d0>"
      ]
     },
     "metadata": {},
     "output_type": "display_data"
    }
   ],
   "source": [
    "state_tomo.plot();"
   ]
  },
  {
   "cell_type": "code",
   "execution_count": null,
   "metadata": {},
   "outputs": [],
   "source": []
  }
 ],
 "metadata": {
  "kernelspec": {
   "display_name": "Python 2",
   "language": "python",
   "name": "python2"
  },
  "language_info": {
   "codemirror_mode": {
    "name": "ipython",
    "version": 2
   },
   "file_extension": ".py",
   "mimetype": "text/x-python",
   "name": "python",
   "nbconvert_exporter": "python",
   "pygments_lexer": "ipython2",
   "version": "2.7.13"
  }
 },
 "nbformat": 4,
 "nbformat_minor": 2
}
