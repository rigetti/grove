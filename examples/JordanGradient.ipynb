{
 "cells": [
  {
   "cell_type": "markdown",
   "metadata": {},
   "source": [
    "# Estimating the gradient of a quadratic potential function using Jordan's quantum gradient estimation algorithm (10.1103/PhysRevLett.95.050501)."
   ]
  },
  {
   "cell_type": "markdown",
   "metadata": {},
   "source": [
    "First, import libraries needed for plotting and data manipulation.\n",
    "\n",
    "Additionally, we will import patch from mock so that we can simulate connecting to the quantum computer.\n",
    "\n",
    "Also import the estimate_gradient module in Grove, which invokes the quantum gradient estimator."
   ]
  },
  {
   "cell_type": "code",
   "execution_count": null,
   "metadata": {},
   "outputs": [],
   "source": [
    "import numpy as np\n",
    "import matplotlib.pyplot as plt\n",
    "from mock import patch\n",
    "\n",
    "from grove.alpha.jordan_gradient.jordan_gradient import estimate_gradient"
   ]
  },
  {
   "cell_type": "markdown",
   "metadata": {},
   "source": [
    "We need to query this potential at a perturbation h from the point at which we are estimating the gradient.  \n",
    "\n",
    "With future developments, we will not have to specify this function.  For example, suppose we were interested in simulating chemical dynamics. In such a case, we would retrieve the potential values at perturbation h from an electronic structure calculation.\n",
    "\n",
    "Here we are estimating the gradient at a variable set of domain values within in a quadratic potential (also referred to as a harmonic oscillator, or spring).  This potential is defined by a spring constant, k, and is given by the following equation:\n",
    "$$V = \\frac{1}{2}k x^2$$ \n",
    "Also note that this gradient estimation technique is only valid over the domain ``[0, 1)``, so we will center the potential at ``x=.5``, and set highly repulsive barriers at values less than 0 and greater than or equal to 1."
   ]
  },
  {
   "cell_type": "code",
   "execution_count": null,
   "metadata": {},
   "outputs": [],
   "source": [
    "SPRING_CONSTANT = 100\n",
    "POTENTIAL_BARRIER_VALUE = 1000\n",
    "DOMAIN_SHIFT = .5"
   ]
  },
  {
   "cell_type": "code",
   "execution_count": null,
   "metadata": {},
   "outputs": [],
   "source": [
    "def oracle_potential(x):\n",
    "    if (x < 0) or (x >= 1):\n",
    "        y = POTENTIAL_BARRIER_VALUE\n",
    "    else:\n",
    "        y = .5 * SPRING_CONSTANT * (x-DOMAIN_SHIFT)**2\n",
    "    return y"
   ]
  },
  {
   "cell_type": "code",
   "execution_count": null,
   "metadata": {},
   "outputs": [],
   "source": [
    "def potential_perturbation(x_eval, h):\n",
    "    f_h = (oracle_potential(x_eval+h) - oracle_potential(x_eval-h)) / (2*h)\n",
    "    return f_h"
   ]
  },
  {
   "cell_type": "code",
   "execution_count": null,
   "metadata": {
    "scrolled": true
   },
   "outputs": [],
   "source": [
    "# visualize the potential\n",
    "x = np.linspace(-.1, 1.1, 100)\n",
    "y = [oracle_potential(i) for i in x]\n",
    "plt.plot(x, y)\n",
    "plt.ylim([0, 20])\n",
    "plt.xlabel('x')\n",
    "plt.ylabel('V(x)')\n",
    "plt.show()"
   ]
  },
  {
   "cell_type": "markdown",
   "metadata": {},
   "source": [
    "We will also compute the gradient of this potential analytically, so that we may benchmark the accuracy of the estimator."
   ]
  },
  {
   "cell_type": "code",
   "execution_count": null,
   "metadata": {},
   "outputs": [],
   "source": [
    "# reference for computing error\n",
    "def analytic_gradient(x):\n",
    "    if x < 0:\n",
    "        g = -1 * POTENTIAL_BARRIER_VALUE\n",
    "    elif x >= 1:\n",
    "        g = POTENTIAL_BARRIER_VALUE\n",
    "    else:\n",
    "        g = SPRING_CONSTANT * (x - DOMAIN_SHIFT)\n",
    "    return g"
   ]
  },
  {
   "cell_type": "markdown",
   "metadata": {},
   "source": [
    "Now we will estimate the gradient at 4 random domain values.  So that this example is deterministic, we specify the random seed as 99.\n",
    "\n",
    "We also need to set region over which our sampling region is approximately linear (PERTURBATION_MAGNITUDE), and the number of times to measure the system (N_MEASUREMENTS)."
   ]
  },
  {
   "cell_type": "code",
   "execution_count": null,
   "metadata": {},
   "outputs": [],
   "source": [
    "# compute gradient at 4 random points [0, 1). \n",
    "np.random.seed(99)\n",
    "x_scan = np.random.rand(4)\n",
    "\n",
    "# set constants\n",
    "PERTURBATION_MAGNITUDE = .001\n",
    "N_MEASUREMENTS = 50"
   ]
  },
  {
   "cell_type": "markdown",
   "metadata": {},
   "source": [
    "Because we are simulating connecting to the quantum computer, here we have mock the response.  \n",
    "\n",
    "These results were generated from running the notebook live.\n",
    "\n",
    "If you are running live, ignore the below cell, and simply run this code:\n",
    "\n",
    "```python\n",
    "from pyquil.api import QVMConnection\n",
    "qvm = QVMConnection()\n",
    "```\n",
    "\n",
    "Then, you would add ```cxn=qvm``` to the argument list when you call ```potential_gradient```"
   ]
  },
  {
   "cell_type": "code",
   "execution_count": null,
   "metadata": {},
   "outputs": [],
   "source": [
    "binary_p4 = {\n",
    "    x_scan[0]: [1, 1, 0, 0, 0],\n",
    "    x_scan[1]: [0, 0, 0, 0, 0],\n",
    "    x_scan[2]: [1, 0, 1, 0, 0],\n",
    "    x_scan[3]: [1, 1, 1, 0, 0]\n",
    "}\n",
    "\n",
    "binary_p10 = {\n",
    "    x_scan[0]: [0, 0, 0, 0, 1, 1, 0, 1, 0, 0, 0],\n",
    "    x_scan[1]: [0, 0, 1, 1, 0, 0, 0, 0, 0, 0, 0],\n",
    "    x_scan[2]: [1, 0, 1, 1, 0, 0, 1, 0, 1, 0, 0],\n",
    "    x_scan[3]: [0, 0, 0, 0, 0, 1, 1, 1, 1, 0, 0]\n",
    "}\n",
    "\n",
    "binary_maps = {\n",
    "    4: binary_p4,\n",
    "    10: binary_p10\n",
    "}"
   ]
  },
  {
   "cell_type": "code",
   "execution_count": null,
   "metadata": {},
   "outputs": [],
   "source": [
    "def potential_gradient(x, h, n_measurements, precision, precision_map, qc=None):\n",
    "    \n",
    "    # if you are running this live, input your qvm or qpu object to qc\n",
    "    if qc is None:\n",
    "        with patch(\"pyquil.api.QuantumComputer\") as qc:\n",
    "            qc.run.return_value = [precision_map[x] for i in range(n_measurements)]\n",
    "    \n",
    "    # function evaluation at perturbation h\n",
    "    f_h = potential_perturbation(x, h)\n",
    "    \n",
    "    # estimate range of values gradient can take on\n",
    "    spring_oom = int(np.floor(np.log10(SPRING_CONSTANT)))\n",
    "    gradient_max = 10**spring_oom    \n",
    "    \n",
    "    # estimate gradient, calculate error for a given precision\n",
    "    gradient_V_qm = estimate_gradient(f_h, precision, gradient_max, n_measurements, qc)\n",
    "    gradient_V_a = analytic_gradient(x)\n",
    "    ab_error = abs(gradient_V_qm - gradient_V_a)\n",
    "        \n",
    "    return gradient_V_qm, gradient_V_a, ab_error"
   ]
  },
  {
   "cell_type": "markdown",
   "metadata": {},
   "source": [
    "The quantum gradient estimator computes in the basis of binary fractions.  For this reason, we need to specify the desired precision of the estimate. \n",
    "\n",
    "Here we will perform a quick experiment, scanning over the input precision value for each input point of evaluation."
   ]
  },
  {
   "cell_type": "code",
   "execution_count": null,
   "metadata": {},
   "outputs": [],
   "source": [
    "def eval_estimator(x_vals, precision, precision_map):\n",
    "    for x in x_vals:\n",
    "        qm, a, error = potential_gradient(x, PERTURBATION_MAGNITUDE, N_MEASUREMENTS, precision, precision_map)\n",
    "        print ('x', x, 'error', error)"
   ]
  },
  {
   "cell_type": "code",
   "execution_count": null,
   "metadata": {},
   "outputs": [],
   "source": [
    "precisions = [4, 10]\n",
    "for p in precisions:\n",
    "    print ('precision', p)\n",
    "    eval_estimator(x_scan, p, binary_maps[p])\n",
    "    print ('\\n')"
   ]
  },
  {
   "cell_type": "markdown",
   "metadata": {},
   "source": [
    "We see that, for a given precision, the errors are comparable for all domain values.  \n",
    "\n",
    "Additionally, as expected, the error of the estimate improves when the precision is increased."
   ]
  }
 ],
 "metadata": {
  "kernelspec": {
   "display_name": "Python 3",
   "language": "python",
   "name": "python3"
  },
  "language_info": {
   "codemirror_mode": {
    "name": "ipython",
    "version": 3
   },
   "file_extension": ".py",
   "mimetype": "text/x-python",
   "name": "python",
   "nbconvert_exporter": "python",
   "pygments_lexer": "ipython3",
   "version": "3.6.5"
  }
 },
 "nbformat": 4,
 "nbformat_minor": 2
}
