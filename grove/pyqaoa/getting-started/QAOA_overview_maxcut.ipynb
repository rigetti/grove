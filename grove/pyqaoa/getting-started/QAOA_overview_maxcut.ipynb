{
 "cells": [
  {
   "cell_type": "markdown",
   "metadata": {},
   "source": [
    "# The Quantum Approximate Optimization Algorithm for MAX-CUT"
   ]
  },
  {
   "cell_type": "markdown",
   "metadata": {},
   "source": [
    "The following is a step-by-step guide to running QAOA on the MaxCut problem.  In the debue paper on QAOA (arXiv: 1411.4028), Farhi, Goldstone, and Gutmann demonstrate that the lowest order approximation of the algorithm produced an approximation ratio of 0.6946 for the MaxCut problem on three-regular graphs.  You can use this notebook to set up an arbitary graph for MaxCut and solve it using the QAOA algorithm the Rigetti Forest service."
   ]
  },
  {
   "cell_type": "markdown",
   "metadata": {},
   "source": [
    "``pyQAOA`` is a python library that implements the QAOA.  It uses the `PauliTerm` and `PauliSum` objects from the pyQuil library for expressing the cost Hamiltonian and driver Hamiltonain. These operators are used to create a parametric pyQuil program and passed to the variational quantum eigensolver (VQE) solver in Grove.  VQE calls the Rigetti Forest QVM to exectue the Quil program that prepares the angle parameterized state.  There are multiple ways to construct the MAX-CUT problem for the QAOA library.  We include a method that accepts a graph and returns a QAOA instance where the costs and driver Hamiltonaians have been constructed.  The graph is either an undirected Networkx graph or a list of tuples where each tuple represents an edge between a pair of nodes.\n",
    "\n",
    "We start by demonstrating the QAOA algorithm with the simplest instance of MAX-CUT--parititioning the nodes on a barbell graph.  The barbell graph corresponds to a single edge connecting two nodes.  The solution is the partitioning of the nodes into different sets $\\{0, 1\\}$. "
   ]
  },
  {
   "cell_type": "code",
   "execution_count": null,
   "metadata": {
    "collapsed": false
   },
   "outputs": [],
   "source": [
    "import pyquil.forest as qvm_module\n",
    "import numpy as np\n",
    "from grove.pyqaoa.maxcut_qaoa import maxcut_qaoa\n",
    "barbell = [(0, 1)]  # graph is a defined by a list of edges.  Edge weights are assumed to be 1.0\n",
    "steps = 1  # evolution path length between the ref hamiltonian and cost hamiltonian\n",
    "inst = maxcut_qaoa(barbell, steps=steps)  # initializing problem instance"
   ]
  },
  {
   "cell_type": "markdown",
   "metadata": {},
   "source": [
    "The cost Hamiltonian and driver Hamiltonian corresponding to the barbell graph are stored in `QAOA` object fields in the form of lists of PauliSums. "
   ]
  },
  {
   "cell_type": "code",
   "execution_count": null,
   "metadata": {
    "collapsed": false
   },
   "outputs": [],
   "source": [
    "cost_list, ref_list = inst.cost_ham, inst.ref_ham\n",
    "cost_ham = reduce(lambda x,y: x + y, cost_list)\n",
    "ref_ham = reduce(lambda x,y: x + y, ref_list)\n",
    "print cost_ham\n",
    "print ref_ham"
   ]
  },
  {
   "cell_type": "markdown",
   "metadata": {},
   "source": [
    "The identity term above is not necessary to the computation since global phase rotations on the wavefunction do not change the expectation value.  We include it here purely as a demonstration.  The cost function printed above is the negative of the traditional maximum cut cost operator.  This is because QAOA is formulated as the maximization of the cost operator but the VQE algorithm in the pyQuil library performs a minimization.\n",
    "\n",
    "QAOA requires the construction of a state parameterized by $\\beta$ and $\\gamma$ rotation angles\n",
    "$$\\begin{align}\n",
    "\\mid \\beta, \\gamma \\rangle = \\prod_{p=0}^{\\mathrm{steps}}\\left( U(\\hat{H}_{\\mathrm{drive}}, \\beta_{p})U(\\hat{H}_{\\mathrm{MAXCUT}}, \\gamma_{p}) \\right)^{\\mathrm{steps}} (\\mid +\\rangle_{N-1}\\otimes\\mid + \\rangle_{N-2}...\\otimes\\mid + \\rangle_{0}).\n",
    "\\end{align}$$\n",
    "The unitaries $U(\\hat{H}_{\\mathrm{drive}}, \\beta_{p})$ and $U(\\hat{H}_{\\mathrm{MAXCUT}}, \\gamma_{p})$ are the exponentiation of the driver Hamiltonian and the cost Hamiltonian, respectively. \n",
    "$$\n",
    "\\begin{align}\n",
    "U(\\hat{H}_{\\mathrm{ref}}, \\beta_{p}) = e^{-i \\beta_{p} \\hat{H}_{drive}} \\\\\n",
    "U(\\hat{H}_{\\mathrm{MAXCUT}}, \\gamma_{p}) = e^{-i \\gamma_{p} \\hat{H}_{\\mathrm{MAXCUT}}}\n",
    "\\end{align}\n",
    "$$\n",
    "\n",
    "The QAOA algorithm relies on many constructions of a wavefunction via parameterized Quil and measurements on all qubits to evaluate an expectation value.  In order avoid needless classical computation, QAOA constructs this parametric program once at the beginning of the calculation and then uses this same program object throughout the computation.  This is accomplished using the `ParametricProgram` object from pyQuil that allows us to slot in a symbolic value for a parameterized gate.  \n",
    "\n",
    "The parameterized program object can be accessed through the `QAOA` method `get_parameterized_program()`.  Calling this method on an instantiated `QAOA` object returns a closure with a precomputed set of Quil programs.  Calling this closure with the parameters $\\beta$ and $\\gamma$ returns the circuit that has the rotations parameterized."
   ]
  },
  {
   "cell_type": "code",
   "execution_count": null,
   "metadata": {
    "collapsed": false
   },
   "outputs": [],
   "source": [
    "param_prog = inst.get_parameterized_program()\n",
    "prog = param_prog([1.2, 4.2])\n",
    "print prog"
   ]
  },
  {
   "cell_type": "markdown",
   "metadata": {},
   "source": [
    "The printed program above is a Quil program that can be executed on a QVM.  QAOA has two modes of operation: 1) pre-computing the angles of rotation classically and using the quantum computer to measure expectation values through repeated experiments and 2) installing the a classical optimization loop on top of step 1 to optimally determine the angles.  Operation mode 2 is known as the variational quantum eigensolver algorithm.  the `QAOA` object wraps the instantiation of the VQE algorithm with the `get_angles()` method.  "
   ]
  },
  {
   "cell_type": "code",
   "execution_count": null,
   "metadata": {
    "collapsed": false
   },
   "outputs": [],
   "source": [
    "betas, gammas = inst.get_angles()\n",
    "print betas, gammas"
   ]
  },
  {
   "cell_type": "markdown",
   "metadata": {},
   "source": [
    "``get_angles()`` returns optimal the $\\beta$ and $\\gamma$ angles.  To view the probabilities of the state you can call ``QAOA.probabilities(t)`` were ``t`` is a concatentation of the $\\beta$ and $\\gamma$ angles, in that order.  The ``probabilities(t)`` routine takes the $\\beta$ and $\\gamma$ parameters, reconstructs the wave function and returns their coefficients.  A modified version can be used to print off the probabilities"
   ]
  },
  {
   "cell_type": "code",
   "execution_count": null,
   "metadata": {
    "collapsed": false
   },
   "outputs": [],
   "source": [
    "param_prog = inst.get_parameterized_program()\n",
    "t = np.hstack((betas, gammas))\n",
    "prog = param_prog(t)\n",
    "wf, _ = inst.qvm.wavefunction(prog)\n",
    "wf = wf.amplitudes\n",
    "for ii in xrange(2**inst.n_qubits):\n",
    "    print inst.states[ii], np.conj(wf[ii])*wf[ii]"
   ]
  },
  {
   "cell_type": "markdown",
   "metadata": {},
   "source": [
    "As expected the bipartitioning of a graph with a single edge connecting two nodes corresponds to the state $\\{|01\\rangle, |10\\rangle \\}$.  In this trivial example the QAOA finds angles that construct a distribution peaked around the two degenerate solutions."
   ]
  },
  {
   "cell_type": "markdown",
   "metadata": {},
   "source": [
    "## MAXCUT on larger graphs and alternative optimizers."
   ]
  },
  {
   "cell_type": "markdown",
   "metadata": {},
   "source": [
    "Larger graph instances and different classical optimizers can be used with the QAOA.  Here we consider an 6-node ring of disagrees.  For an even number ring graph, the ring of disagrees corresponds to the antiferromagnet ground state--i.e. alternating spin-up spin-down.  "
   ]
  },
  {
   "cell_type": "code",
   "execution_count": null,
   "metadata": {
    "collapsed": false
   },
   "outputs": [],
   "source": [
    "%matplotlib inline\n",
    "\n",
    "from grove.pyqaoa.qaoa import QAOA\n",
    "import networkx as nx\n",
    "import matplotlib.pyplot as plt\n",
    "from pyquil.paulis import PauliSum, PauliTerm\n",
    "import pyquil.quil as pq\n",
    "from pyquil.gates import H\n",
    "import pyquil.forest as qvm_module\n",
    "CXN = qvm_module.Connection()"
   ]
  },
  {
   "cell_type": "code",
   "execution_count": null,
   "metadata": {
    "collapsed": false
   },
   "outputs": [],
   "source": [
    "# define a 6-qubit ring\n",
    "ring_size = 6\n",
    "graph = nx.Graph()\n",
    "for i in xrange(ring_size):\n",
    "    graph.add_edge(i, (i + 1) % ring_size)"
   ]
  },
  {
   "cell_type": "code",
   "execution_count": null,
   "metadata": {
    "collapsed": false
   },
   "outputs": [],
   "source": [
    "nx.draw_circular(graph, node_color=\"#6CAFB7\")"
   ]
  },
  {
   "cell_type": "markdown",
   "metadata": {},
   "source": [
    "This graph could be passed to the `maxcut_qaoa` method and a `QAOA` instance with the correct driver and cost Hamiltonian could be generated as before.  In order to demonstrate the more general approach, along with some VQE options, we will construct the cost and driver Hamiltonians directly with `PauliSum` and `PauliTerm` objects.  To do this we parse the edges and nodes of the graph to construct the relevant operators.\n",
    "$$\n",
    "\\begin{align}\n",
    "\\hat{H}_{\\mathrm{cost}} = \\sum_{\\langle i, j\\rangle \\in E}\\frac{\\sigma_{i}^{z}\\sigma_{j}^{z} - 1}{2} \\\\\n",
    "\\hat{H}_{\\mathrm{drive}} = \\sum_{i}^{n}-\\sigma_{i}^{x}\n",
    "\\end{align}\n",
    "$$\n",
    "where $\\langle i, j\\rangle \\in E$ refers to the pairs of nodes that form the edges of the graph."
   ]
  },
  {
   "cell_type": "code",
   "execution_count": null,
   "metadata": {
    "collapsed": false
   },
   "outputs": [],
   "source": [
    "cost_operators = []\n",
    "driver_operators = []\n",
    "for i, j in graph.edges():\n",
    "    cost_operators.append(PauliTerm(\"Z\", i, 0.5)*PauliTerm(\"Z\", j) + PauliTerm(\"I\", 0, -0.5))\n",
    "for i in graph.nodes():\n",
    "    driver_operators.append(PauliSum([PauliTerm(\"X\", i, 1.0)]))"
   ]
  },
  {
   "cell_type": "markdown",
   "metadata": {},
   "source": [
    "We will also construct the initial state and pass this to the QAOA object.  By default `QAOA` uses the $|+\\rangle$ tensor product state.  In other notebooks we will demonstrate that you can use the `driver_ref` optional argument to pass a different starting state for QAOA."
   ]
  },
  {
   "cell_type": "code",
   "execution_count": null,
   "metadata": {
    "collapsed": false
   },
   "outputs": [],
   "source": [
    "prog = pq.Program()\n",
    "for i in graph.nodes():\n",
    "    prog.inst(H(i))"
   ]
  },
  {
   "cell_type": "markdown",
   "metadata": {},
   "source": [
    "Now we are ready to instantiate the QAOA object!"
   ]
  },
  {
   "cell_type": "code",
   "execution_count": null,
   "metadata": {
    "collapsed": false
   },
   "outputs": [],
   "source": [
    "ring_cut_inst = QAOA(CXN, len(graph.nodes()), steps=1, ref_hamiltonian=driver_operators, cost_ham=cost_operators,\n",
    "                     driver_ref=prog, store_basis=True, rand_seed=42)"
   ]
  },
  {
   "cell_type": "code",
   "execution_count": null,
   "metadata": {
    "collapsed": false
   },
   "outputs": [],
   "source": [
    "betas, gammas = ring_cut_inst.get_angles()"
   ]
  },
  {
   "cell_type": "markdown",
   "metadata": {},
   "source": [
    "We are interested in the bit strings returned from the QAOA algorthm.  The `get_angles()` routine calls the VQE algorithm to find the best angles.  We can then manually query the bit strings by rerunning the program and sampling many outputs.  "
   ]
  },
  {
   "cell_type": "code",
   "execution_count": null,
   "metadata": {
    "collapsed": false
   },
   "outputs": [],
   "source": [
    "from collections import Counter\n",
    "\n",
    "# get the parameterized program\n",
    "param_prog = ring_cut_inst.get_parameterized_program()\n",
    "sampling_prog = param_prog(np.hstack((betas, gammas)))\n",
    "\n",
    "# use the run_and_measure QVM API to prepare a circuit and then measure on the qubits\n",
    "bitstring_samples = CXN.run_and_measure(sampling_prog, range(len(graph.nodes())), 1000)\n",
    "bitstring_tuples = map(tuple, bitstring_samples)\n",
    "\n",
    "# aggregate the statistics\n",
    "freq = Counter(bitstring_tuples)\n",
    "most_frequent_bit_string = max(freq, key=lambda x: freq[x])\n",
    "print freq\n",
    "\n",
    "print \"The most frequently sampled string is \", most_frequent_bit_string"
   ]
  },
  {
   "cell_type": "markdown",
   "metadata": {},
   "source": [
    "We can see that the first two most frequently sampled bit strings are the alternating solutions to the ring graph.  Since we have access to the wave function we can go one step farther and view the probability distrubtion over the bit strings produced by our $p = 1$ circuit."
   ]
  },
  {
   "cell_type": "code",
   "execution_count": null,
   "metadata": {
    "collapsed": false
   },
   "outputs": [],
   "source": [
    "# plotting strings!\n",
    "n_qubits = len(graph.nodes())\n",
    "def plot(inst, probs):\n",
    "    probs = probs.real\n",
    "    states = inst.states\n",
    "    fig = plt.figure()\n",
    "    ax = fig.add_subplot(111)\n",
    "    ax.set_xlabel(\"state\",fontsize=20)\n",
    "    ax.set_ylabel(\"Probability\",fontsize=20)\n",
    "    ax.set_xlim([0, 2**n_qubits ])\n",
    "    rec = ax.bar(range(2**n_qubits), probs, )\n",
    "    num_states = [0, int(\"\".join(str(x) for x in [0,1] * (n_qubits/2)), 2), \n",
    "              int(\"\".join(str(x) for x in [1,0] * (n_qubits/2)), 2), 2**n_qubits - 1 ]\n",
    "    ax.set_xticks(num_states)\n",
    "    ax.set_xticklabels(map(lambda x: inst.states[x], num_states), rotation=90)\n",
    "    plt.grid(True)\n",
    "    plt.tight_layout()\n",
    "    plt.show()"
   ]
  },
  {
   "cell_type": "code",
   "execution_count": null,
   "metadata": {
    "collapsed": false
   },
   "outputs": [],
   "source": [
    "t = np.hstack((betas, gammas))\n",
    "probs = ring_cut_inst.probabilities(t)\n",
    "plot(ring_cut_inst, probs)"
   ]
  },
  {
   "cell_type": "markdown",
   "metadata": {},
   "source": [
    "For larger graphs the probability of sampling the correct string could be significantly smaller, though still peaked around the solution.  Therefore, we would want to increase the probability of sampling the solution relative to any other string.  To do this we simply increase the number of steps $p$ in the algorithm.  We might want to bootstrap the algorithm with angles from lower number of steps.  We can pass inital angles to the solver as optional arguments."
   ]
  },
  {
   "cell_type": "code",
   "execution_count": null,
   "metadata": {
    "collapsed": false
   },
   "outputs": [],
   "source": [
    "# get the angles from the last run\n",
    "beta = ring_cut_inst.betas\n",
    "gamma = ring_cut_inst.gammas\n",
    "# form new beta/gamma angles from the old angles\n",
    "betas = np.hstack((beta[0]/3, beta[0]*2/3))\n",
    "gammas = np.hstack((gamma[0]/3, gamma[0]*2/3))\n",
    "# set up a new QAOA instance.\n",
    "ring_cut_inst_2 = QAOA(CXN, len(graph.nodes()), steps=2, ref_hamiltonian=driver_operators, cost_ham=cost_operators,\n",
    "                     driver_ref=prog, store_basis=True, init_betas=betas, init_gammas=gammas)\n",
    "# run VQE to determine the optimal angles\n",
    "betas, gammas = ring_cut_inst_2.get_angles()\n",
    "t = np.hstack((betas, gammas))\n",
    "probs = ring_cut_inst_2.probabilities(t)\n",
    "plot(ring_cut_inst_2, probs)"
   ]
  },
  {
   "cell_type": "markdown",
   "metadata": {},
   "source": [
    "We could also change the optimizer which is passed down to VQE through the QAOA interface.  Let's say I want to use BFGS or another optimizer that can be wrapped in python.  Simply pass it to `QAOA` through the `minimzer`, `minimizer_args`, and `minimizer_kwargs` keywords"
   ]
  },
  {
   "cell_type": "code",
   "execution_count": null,
   "metadata": {
    "collapsed": false
   },
   "outputs": [],
   "source": [
    "from scipy.optimize import fmin_bfgs\n",
    "\n",
    "ring_cut_inst_3 = QAOA(CXN, len(graph.nodes()), steps=3, ref_hamiltonian=driver_operators, cost_ham=cost_operators,\n",
    "                       driver_ref=prog, store_basis=True, minimizer=fmin_bfgs, minimizer_kwargs={'gtol':1.0e-3},\n",
    "                       rand_seed=42)\n",
    "betas, gammas = ring_cut_inst_3.get_angles()\n",
    "t = np.hstack((betas, gammas))\n",
    "probs = ring_cut_inst_3.probabilities(t)\n",
    "plot(ring_cut_inst_3, probs)"
   ]
  }
 ],
 "metadata": {
  "anaconda-cloud": {},
  "kernelspec": {
   "display_name": "Python [default]",
   "language": "python",
   "name": "python2"
  },
  "language_info": {
   "codemirror_mode": {
    "name": "ipython",
    "version": 2
   },
   "file_extension": ".py",
   "mimetype": "text/x-python",
   "name": "python",
   "nbconvert_exporter": "python",
   "pygments_lexer": "ipython2",
   "version": "2.7.13"
  }
 },
 "nbformat": 4,
 "nbformat_minor": 0
}
