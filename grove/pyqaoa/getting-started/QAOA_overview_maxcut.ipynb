{
 "cells": [
  {
   "cell_type": "markdown",
   "metadata": {},
   "source": [
    "# The Quantum Approximate Optimization Algorithm for MAX-CUT"
   ]
  },
  {
   "cell_type": "markdown",
   "metadata": {},
   "source": [
    "The following is a step-by-step guide to running QAOA on the MaxCut problem.  In the debue paper on QAOA (arXiv: 1411.4028), Farhi, Goldstone, and Gutmann demonstrate that the lowest order approximation of the algorithm produced an approximation ratio of 0.6946 for the MaxCut problem on three-regular graphs.  You can use this notebook to set up an arbitary graph for MaxCut and solve it using the QAOA algorithm the Rigetti Forest service."
   ]
  },
  {
   "cell_type": "markdown",
   "metadata": {},
   "source": [
    "``pyQAOA`` is a python library that implements the QAOA.  It uses the `PauliTerm` and `PauliSum` objects from the pyQuil library for expressing the cost Hamiltonian and driver Hamiltonain. These operators are used to create a parametric pyQuil program and passed to the variational quantum eigensolver (VQE) solver in Grove.  VQE calls the Rigetti Forest QVM to exectue the Quil program that prepares the angle parameterized state.  There are multiple ways to construct the MAX-CUT problem for the QAOA library.  We include a method that accepts a graph and returns a QAOA instance where the costs and driver Hamiltonaians have been constructed.  The graph is either an undirected Networkx graph or a list of tuples where each tuple represents an edge between a pair of nodes.\n",
    "\n",
    "We start by demonstrating the QAOA algorithm with the simplest instance of MAX-CUT--parititioning the nodes on a barbell graph.  The barbell graph corresponds to a single edge connecting two nodes.  The solution is the partitioning of the nodes into different sets $\\{0, 1\\}$. "
   ]
  },
  {
   "cell_type": "code",
   "execution_count": 1,
   "metadata": {},
   "outputs": [
    {
     "name": "stderr",
     "output_type": "stream",
     "text": [
      "/home/apolloreno/anaconda3/envs/estuary/lib/python3.7/site-packages/pyquil/api/_compiler.py:324: UserWarning: No quilc server running at tcp://127.0.0.1:5555. Compilation using quilc will not be available.\n",
      "  warnings.warn(f'{e}. Compilation using quilc will not be available.')\n"
     ]
    }
   ],
   "source": [
    "import numpy as np\n",
    "from grove.pyqaoa.maxcut_qaoa import maxcut_qaoa\n",
    "barbell = [(0, 1)]  # graph is a defined by a list of edges.  Edge weights are assumed to be 1.0\n",
    "steps = 1  # evolution path length between the ref hamiltonian and cost hamiltonian\n",
    "inst = maxcut_qaoa(barbell, steps=steps)  # initializing problem instance"
   ]
  },
  {
   "cell_type": "markdown",
   "metadata": {},
   "source": [
    "The cost Hamiltonian and driver Hamiltonian corresponding to the barbell graph are stored in `QAOA` object fields in the form of lists of PauliSums. "
   ]
  },
  {
   "cell_type": "code",
   "execution_count": 2,
   "metadata": {},
   "outputs": [
    {
     "name": "stdout",
     "output_type": "stream",
     "text": [
      "(0.5+0j)*Z0*Z1 + (-0.5+0j)*I\n",
      "(-1+0j)*X0 + (-1+0j)*X1\n"
     ]
    }
   ],
   "source": [
    "from functools import reduce\n",
    "cost_list, ref_list = inst.cost_ham, inst.ref_ham\n",
    "cost_ham = reduce(lambda x,y: x + y, cost_list)\n",
    "ref_ham = reduce(lambda x,y: x + y, ref_list)\n",
    "print(cost_ham)\n",
    "print(ref_ham)"
   ]
  },
  {
   "cell_type": "markdown",
   "metadata": {},
   "source": [
    "The identity term above is not necessary to the computation since global phase rotations on the wavefunction do not change the expectation value.  We include it here purely as a demonstration.  The cost function printed above is the negative of the traditional maximum cut cost operator.  This is because QAOA is formulated as the maximization of the cost operator but the VQE algorithm in the pyQuil library performs a minimization.\n",
    "\n",
    "QAOA requires the construction of a state parameterized by $\\beta$ and $\\gamma$ rotation angles\n",
    "$$\\begin{align}\n",
    "\\mid \\beta, \\gamma \\rangle = \\prod_{p=0}^{\\mathrm{steps}}\\left( U(\\hat{H}_{\\mathrm{drive}}, \\beta_{p})U(\\hat{H}_{\\mathrm{MAXCUT}}, \\gamma_{p}) \\right)^{\\mathrm{steps}} (\\mid +\\rangle_{N-1}\\otimes\\mid + \\rangle_{N-2}...\\otimes\\mid + \\rangle_{0}).\n",
    "\\end{align}$$\n",
    "The unitaries $U(\\hat{H}_{\\mathrm{drive}}, \\beta_{p})$ and $U(\\hat{H}_{\\mathrm{MAXCUT}}, \\gamma_{p})$ are the exponentiation of the driver Hamiltonian and the cost Hamiltonian, respectively. \n",
    "$$\n",
    "\\begin{align}\n",
    "U(\\hat{H}_{\\mathrm{ref}}, \\beta_{p}) = e^{-i \\beta_{p} \\hat{H}_{drive}} \\\\\n",
    "U(\\hat{H}_{\\mathrm{MAXCUT}}, \\gamma_{p}) = e^{-i \\gamma_{p} \\hat{H}_{\\mathrm{MAXCUT}}}\n",
    "\\end{align}\n",
    "$$\n",
    "\n",
    "The QAOA algorithm relies on many constructions of a wavefunction via parameterized Quil and measurements on all qubits to evaluate an expectation value.  In order avoid needless classical computation, QAOA constructs this parametric program once at the beginning of the calculation and then uses this same program object throughout the computation.  This is accomplished using the `ParametricProgram` object from pyQuil that allows us to slot in a symbolic value for a parameterized gate.  \n",
    "\n",
    "The parameterized program object can be accessed through the `QAOA` method `get_parameterized_program()`.  Calling this method on an instantiated `QAOA` object returns a closure with a precomputed set of Quil programs.  Calling this closure with the parameters $\\beta$ and $\\gamma$ returns the circuit that has the rotations parameterized."
   ]
  },
  {
   "cell_type": "code",
   "execution_count": 3,
   "metadata": {},
   "outputs": [
    {
     "name": "stdout",
     "output_type": "stream",
     "text": [
      "H 0\n",
      "H 1\n",
      "CNOT 0 1\n",
      "RZ(4.2) 1\n",
      "CNOT 0 1\n",
      "X 0\n",
      "PHASE(2.1) 0\n",
      "X 0\n",
      "PHASE(2.1) 0\n",
      "H 0\n",
      "RZ(-2.4) 0\n",
      "H 0\n",
      "H 1\n",
      "RZ(-2.4) 1\n",
      "H 1\n",
      "\n"
     ]
    }
   ],
   "source": [
    "param_prog = inst.get_parameterized_program()\n",
    "prog = param_prog([1.2, 4.2])\n",
    "print(prog)"
   ]
  },
  {
   "cell_type": "markdown",
   "metadata": {},
   "source": [
    "The printed program above is a Quil program that can be executed on a QVM.  QAOA has two modes of operation: 1) pre-computing the angles of rotation classically and using the quantum computer to measure expectation values through repeated experiments and 2) installing the a classical optimization loop on top of step 1 to optimally determine the angles.  Operation mode 2 is known as the variational quantum eigensolver algorithm.  the `QAOA` object wraps the instantiation of the VQE algorithm with the `get_angles()` method.  "
   ]
  },
  {
   "cell_type": "code",
   "execution_count": 4,
   "metadata": {},
   "outputs": [
    {
     "name": "stdout",
     "output_type": "stream",
     "text": [
      "WARNING: Fast method for expectation will be used. Noise\n",
      "                     models will be ineffective\n",
      "\tParameters: [1.94980229 1.4744023 ] \n",
      "\tE => 0.0015337456362040647\n",
      "\tParameters: [1.98381047 1.51535792] \n",
      "\tE => 0.0012077609643334486\n",
      "\tParameters: [1.98381047 1.51535792] \n",
      "\tE => 0.0015533454458819262\n",
      "\tParameters: [1.9512193  1.53071628] \n",
      "\tE => 0.0005018775110684492\n",
      "\tParameters: [1.9512193  1.53071628] \n",
      "\tE => 0.0009440667030610195\n",
      "\tParameters: [1.95263631 1.58703025] \n",
      "\tE => 0.0017344383549392495\n",
      "\tParameters: [1.96857764 1.56527258] \n",
      "\tE => 5.546960010061053e-05\n",
      "\tParameters: [1.96857764 1.56527258] \n",
      "\tE => 0.0001050191734196515\n",
      "\tParameters: [1.95978777 1.58455052] \n",
      "\tE => 5.113693939540198e-05\n",
      "\tParameters: [1.9630646  1.55095411] \n",
      "\tE => 0.00024455655341537597\n",
      "\tParameters: [1.96500191 1.56651245] \n",
      "\tE => 6.833004222661643e-06\n",
      "\tParameters: [1.96191051 1.5716419 ] \n",
      "\tE => 5.113152035884916e-06\n",
      "\tParameters: [1.96191051 1.5716419 ] \n",
      "\tE => 6.787833086330242e-06\n",
      "[1.96191051] [1.5716419]\n"
     ]
    }
   ],
   "source": [
    "betas, gammas = inst.get_angles()\n",
    "print(betas, gammas)"
   ]
  },
  {
   "cell_type": "markdown",
   "metadata": {},
   "source": [
    "``get_angles()`` returns optimal the $\\beta$ and $\\gamma$ angles.  To view the probabilities of the state you can call ``QAOA.probabilities(t)`` were ``t`` is a concatentation of the $\\beta$ and $\\gamma$ angles, in that order.  The ``probabilities(t)`` routine takes the $\\beta$ and $\\gamma$ parameters, reconstructs the wave function and returns their coefficients.  A modified version can be used to print off the probabilities"
   ]
  },
  {
   "cell_type": "code",
   "execution_count": 5,
   "metadata": {},
   "outputs": [
    {
     "name": "stdout",
     "output_type": "stream",
     "text": [
      "00 (5.11315203590504e-06+0j)\n",
      "01 (0.4999948868479635+0j)\n",
      "10 (0.4999948868479635+0j)\n",
      "11 (5.11315203590504e-06+0j)\n"
     ]
    }
   ],
   "source": [
    "from pyquil.api import WavefunctionSimulator\n",
    "\n",
    "param_prog = inst.get_parameterized_program()\n",
    "t = np.hstack((betas, gammas))\n",
    "prog = param_prog(t)\n",
    "\n",
    "wf = WavefunctionSimulator().wavefunction(prog)\n",
    "wf = wf.amplitudes\n",
    "for ii in range(2**len(inst.qubits)):\n",
    "    print(inst.states[ii], np.conj(wf[ii])*wf[ii])"
   ]
  },
  {
   "cell_type": "markdown",
   "metadata": {},
   "source": [
    "As expected the bipartitioning of a graph with a single edge connecting two nodes corresponds to the state $\\{|01\\rangle, |10\\rangle \\}$.  In this trivial example the QAOA finds angles that construct a distribution peaked around the two degenerate solutions."
   ]
  },
  {
   "cell_type": "markdown",
   "metadata": {},
   "source": [
    "## MAXCUT on larger graphs and alternative optimizers."
   ]
  },
  {
   "cell_type": "markdown",
   "metadata": {},
   "source": [
    "Larger graph instances and different classical optimizers can be used with the QAOA.  Here we consider an 6-node ring of disagrees.  For an even number ring graph, the ring of disagrees corresponds to the antiferromagnet ground state--i.e. alternating spin-up spin-down.  "
   ]
  },
  {
   "cell_type": "code",
   "execution_count": 3,
   "metadata": {},
   "outputs": [],
   "source": [
    "%matplotlib inline\n",
    "\n",
    "from grove.pyqaoa.qaoa import QAOA\n",
    "import networkx as nx\n",
    "import matplotlib.pyplot as plt\n",
    "from pyquil.paulis import PauliSum, PauliTerm\n",
    "import pyquil.quil as pq\n",
    "from pyquil.gates import H"
   ]
  },
  {
   "cell_type": "code",
   "execution_count": 7,
   "metadata": {},
   "outputs": [],
   "source": [
    "# define a 6-qubit ring\n",
    "ring_size = 6\n",
    "graph = nx.Graph()\n",
    "for i in range(ring_size):\n",
    "    graph.add_edge(i, (i + 1) % ring_size)"
   ]
  },
  {
   "cell_type": "code",
   "execution_count": 8,
   "metadata": {},
   "outputs": [
    {
     "data": {
      "image/png": "[encoded data removed]",
      "text/plain": [
       "<Figure size 432x288 with 1 Axes>"
      ]
     },
     "metadata": {},
     "output_type": "display_data"
    }
   ],
   "source": [
    "nx.draw_circular(graph, node_color=\"#6CAFB7\")"
   ]
  },
  {
   "cell_type": "markdown",
   "metadata": {},
   "source": [
    "This graph could be passed to the `maxcut_qaoa` method and a `QAOA` instance with the correct driver and cost Hamiltonian could be generated as before.  In order to demonstrate the more general approach, along with some VQE options, we will construct the cost and driver Hamiltonians directly with `PauliSum` and `PauliTerm` objects.  To do this we parse the edges and nodes of the graph to construct the relevant operators.\n",
    "$$\n",
    "\\begin{align}\n",
    "\\hat{H}_{\\mathrm{cost}} = \\sum_{\\langle i, j\\rangle \\in E}\\frac{\\sigma_{i}^{z}\\sigma_{j}^{z} - 1}{2} \\\\\n",
    "\\hat{H}_{\\mathrm{drive}} = \\sum_{i}^{n}-\\sigma_{i}^{x}\n",
    "\\end{align}\n",
    "$$\n",
    "where $\\langle i, j\\rangle \\in E$ refers to the pairs of nodes that form the edges of the graph."
   ]
  },
  {
   "cell_type": "code",
   "execution_count": 9,
   "metadata": {},
   "outputs": [],
   "source": [
    "cost_operators = []\n",
    "driver_operators = []\n",
    "for i, j in graph.edges():\n",
    "    cost_operators.append(PauliTerm(\"Z\", i, 0.5)*PauliTerm(\"Z\", j) + PauliTerm(\"I\", 0, -0.5))\n",
    "for i in graph.nodes():\n",
    "    driver_operators.append(PauliSum([PauliTerm(\"X\", i, 1.0)]))"
   ]
  },
  {
   "cell_type": "markdown",
   "metadata": {},
   "source": [
    "We will also construct the initial state and pass this to the QAOA object.  By default `QAOA` uses the $|+\\rangle$ tensor product state.  In other notebooks we will demonstrate that you can use the `driver_ref` optional argument to pass a different starting state for QAOA."
   ]
  },
  {
   "cell_type": "code",
   "execution_count": 10,
   "metadata": {},
   "outputs": [],
   "source": [
    "prog = pq.Program()\n",
    "for i in graph.nodes():\n",
    "    prog.inst(H(i))"
   ]
  },
  {
   "cell_type": "markdown",
   "metadata": {},
   "source": [
    "Now we are ready to instantiate the QAOA object!"
   ]
  },
  {
   "cell_type": "code",
   "execution_count": 11,
   "metadata": {},
   "outputs": [
    {
     "name": "stderr",
     "output_type": "stream",
     "text": [
      "/home/apolloreno/anaconda3/envs/estuary/lib/python3.7/site-packages/pyquil/api/_quantum_computer.py:884: RuntimeWarning: Unable to start qvm server, since the specified port 5000 is in use.\n",
      "  warnings.warn(RuntimeWarning(warning_msg))\n",
      "/home/apolloreno/anaconda3/envs/estuary/lib/python3.7/site-packages/pyquil/api/_compiler.py:324: UserWarning: No quilc server running at tcp://127.0.0.1:5555. Compilation using quilc will not be available.\n",
      "  warnings.warn(f'{e}. Compilation using quilc will not be available.')\n"
     ]
    }
   ],
   "source": [
    "from pyquil.api import local_forest_runtime\n",
    "from pyquil import get_qc, Program\n",
    "with local_forest_runtime():\n",
    "    qvm = get_qc('6q-qvm')\n",
    "    ring_cut_inst = QAOA(qvm, range(len(graph.nodes())), steps=1, ref_ham=driver_operators, cost_ham=cost_operators,\n",
    "                         driver_ref=prog, store_basis=True, rand_seed=42)"
   ]
  },
  {
   "cell_type": "code",
   "execution_count": 12,
   "metadata": {},
   "outputs": [
    {
     "name": "stdout",
     "output_type": "stream",
     "text": [
      "WARNING: Fast method for expectation will be used. Noise\n",
      "                     models will be ineffective\n",
      "Optimization terminated successfully.\n",
      "         Current function value: 8.250011\n",
      "         Iterations: 16\n",
      "         Function evaluations: 31\n"
     ]
    }
   ],
   "source": [
    "betas, gammas = ring_cut_inst.get_angles()"
   ]
  },
  {
   "cell_type": "markdown",
   "metadata": {},
   "source": [
    "We are interested in the bit strings returned from the QAOA algorthm.  The `get_angles()` routine calls the VQE algorithm to find the best angles.  We can then manually query the bit strings by rerunning the program and sampling many outputs.  "
   ]
  },
  {
   "cell_type": "code",
   "execution_count": 13,
   "metadata": {},
   "outputs": [
    {
     "name": "stderr",
     "output_type": "stream",
     "text": [
      "/home/apolloreno/anaconda3/envs/estuary/lib/python3.7/site-packages/pyquil/api/_quantum_computer.py:884: RuntimeWarning: Unable to start qvm server, since the specified port 5000 is in use.\n",
      "  warnings.warn(RuntimeWarning(warning_msg))\n",
      "/home/apolloreno/anaconda3/envs/estuary/lib/python3.7/site-packages/pyquil/api/_compiler.py:324: UserWarning: No quilc server running at tcp://127.0.0.1:5555. Compilation using quilc will not be available.\n",
      "  warnings.warn(f'{e}. Compilation using quilc will not be available.')\n"
     ]
    },
    {
     "name": "stdout",
     "output_type": "stream",
     "text": [
      "Counter({(0, 1, 0, 1, 0, 1): 160, (1, 0, 1, 0, 1, 0): 137, (1, 1, 0, 1, 1, 0): 39, (0, 1, 0, 0, 1, 1): 38, (0, 0, 1, 0, 1, 1): 36, (1, 0, 0, 1, 0, 1): 36, (0, 1, 1, 0, 0, 1): 35, (1, 1, 0, 1, 0, 0): 34, (0, 1, 0, 0, 1, 0): 33, (1, 0, 0, 1, 1, 0): 33, (0, 0, 1, 0, 0, 1): 33, (0, 1, 1, 0, 1, 1): 32, (1, 0, 1, 1, 0, 0): 31, (0, 0, 1, 1, 0, 1): 31, (0, 1, 0, 1, 1, 0): 30, (1, 0, 1, 1, 0, 1): 30, (1, 1, 0, 0, 1, 0): 29, (1, 0, 1, 0, 0, 1): 26, (0, 1, 1, 0, 1, 0): 23, (1, 0, 0, 1, 0, 0): 20, (1, 0, 1, 0, 0, 0): 14, (0, 1, 0, 1, 1, 1): 12, (0, 1, 0, 0, 0, 1): 12, (1, 0, 1, 0, 1, 1): 11, (1, 1, 1, 0, 1, 0): 8, (0, 0, 0, 1, 0, 1): 8, (0, 1, 1, 1, 0, 1): 8, (1, 0, 0, 0, 1, 0): 7, (0, 1, 0, 1, 0, 0): 6, (0, 0, 1, 0, 1, 0): 6, (1, 1, 0, 1, 0, 1): 6, (1, 0, 1, 1, 1, 0): 5, (0, 0, 0, 0, 0, 1): 4, (1, 1, 1, 1, 0, 1): 3, (0, 1, 1, 1, 0, 0): 3, (1, 1, 1, 0, 0, 0): 3, (1, 1, 1, 1, 1, 0): 3, (1, 1, 1, 0, 1, 1): 3, (0, 0, 0, 1, 0, 0): 2, (1, 1, 0, 1, 1, 1): 2, (1, 0, 0, 0, 1, 1): 2, (0, 1, 0, 0, 0, 0): 1, (0, 0, 1, 1, 1, 0): 1, (1, 0, 1, 1, 1, 1): 1, (0, 0, 0, 0, 1, 0): 1, (1, 0, 0, 0, 0, 0): 1, (0, 0, 1, 0, 0, 0): 1})\n",
      "The most frequently sampled string is  (0, 1, 0, 1, 0, 1)\n"
     ]
    }
   ],
   "source": [
    "from collections import Counter\n",
    "\n",
    "# get the parameterized program\n",
    "param_prog = ring_cut_inst.get_parameterized_program()\n",
    "sampling_prog = param_prog(np.hstack((betas, gammas)))\n",
    "\n",
    "# use the run_and_measure QVM API to prepare a circuit and then measure on the qubits\n",
    "with local_forest_runtime():\n",
    "    qvm = get_qc('6q-qvm')\n",
    "    bitstring_samples = qvm.run_and_measure(sampling_prog, 1000)\n",
    "    shots = np.array([bitstring_samples[qubit] for qubit in sorted(bitstring_samples)]).T\n",
    "    bitstring_tuples = map(tuple, shots)\n",
    "\n",
    "# aggregate the statistics\n",
    "freq = Counter(bitstring_tuples)\n",
    "most_frequent_bit_string = max(freq, key=lambda x: freq[x])\n",
    "print(freq)\n",
    "\n",
    "print(\"The most frequently sampled string is \", most_frequent_bit_string)"
   ]
  },
  {
   "cell_type": "markdown",
   "metadata": {},
   "source": [
    "We can see that the first two most frequently sampled bit strings are the alternating solutions to the ring graph.  Since we have access to the wave function we can go one step farther and view the probability distrubtion over the bit strings produced by our $p = 1$ circuit."
   ]
  },
  {
   "cell_type": "code",
   "execution_count": 9,
   "metadata": {},
   "outputs": [],
   "source": [
    "# plotting strings!\n",
    "n_qubits = len(graph.nodes())\n",
    "def plot(inst, probs):\n",
    "    probs = probs.real\n",
    "    states = inst.states\n",
    "    fig = plt.figure()\n",
    "    ax = fig.add_subplot(111)\n",
    "    ax.set_xlabel(\"state\",fontsize=20)\n",
    "    ax.set_ylabel(\"Probability\",fontsize=20)\n",
    "    ax.set_xlim([0, 2**n_qubits ])\n",
    "    rec = ax.bar(range(2**n_qubits),height=list(probs.T[0]))\n",
    "    num_states = [0, int(\"\".join(str(x) for x in [0,1] * int(n_qubits/2)), 2), \n",
    "              int(\"\".join(str(x) for x in [1,0] * int(n_qubits/2)), 2), 2**n_qubits - 1 ]\n",
    "    ax.set_xticks(num_states)\n",
    "    ax.set_xticklabels(map(lambda x: inst.states[x], num_states), rotation=90)\n",
    "    plt.grid(True)\n",
    "    plt.tight_layout()\n",
    "    plt.show()"
   ]
  },
  {
   "cell_type": "code",
   "execution_count": 15,
   "metadata": {},
   "outputs": [
    {
     "data": {
      "image/png": "[encoded data removed]",
      "text/plain": [
       "<Figure size 432x288 with 1 Axes>"
      ]
     },
     "metadata": {
      "needs_background": "light"
     },
     "output_type": "display_data"
    }
   ],
   "source": [
    "t = np.hstack((betas, gammas))\n",
    "probs = ring_cut_inst.probabilities(t)\n",
    "plot(ring_cut_inst, probs)"
   ]
  },
  {
   "cell_type": "markdown",
   "metadata": {},
   "source": [
    "For larger graphs the probability of sampling the correct string could be significantly smaller, though still peaked around the solution.  Therefore, we would want to increase the probability of sampling the solution relative to any other string.  To do this we simply increase the number of steps $p$ in the algorithm.  We might want to bootstrap the algorithm with angles from lower number of steps.  We can pass inital angles to the solver as optional arguments."
   ]
  },
  {
   "cell_type": "code",
   "execution_count": 16,
   "metadata": {},
   "outputs": [
    {
     "name": "stderr",
     "output_type": "stream",
     "text": [
      "/home/apolloreno/anaconda3/envs/estuary/lib/python3.7/site-packages/pyquil/api/_quantum_computer.py:884: RuntimeWarning: Unable to start qvm server, since the specified port 5000 is in use.\n",
      "  warnings.warn(RuntimeWarning(warning_msg))\n",
      "/home/apolloreno/anaconda3/envs/estuary/lib/python3.7/site-packages/pyquil/api/_compiler.py:324: UserWarning: No quilc server running at tcp://127.0.0.1:5555. Compilation using quilc will not be available.\n",
      "  warnings.warn(f'{e}. Compilation using quilc will not be available.')\n"
     ]
    },
    {
     "name": "stdout",
     "output_type": "stream",
     "text": [
      "WARNING: Fast method for expectation will be used. Noise\n",
      "                     models will be ineffective\n",
      "Optimization terminated successfully.\n",
      "         Current function value: 8.000007\n",
      "         Iterations: 97\n",
      "         Function evaluations: 162\n"
     ]
    },
    {
     "data": {
      "image/png": "[encoded data removed]",
      "text/plain": [
       "<Figure size 432x288 with 1 Axes>"
      ]
     },
     "metadata": {
      "needs_background": "light"
     },
     "output_type": "display_data"
    }
   ],
   "source": [
    "# get the angles from the last run\n",
    "beta = ring_cut_inst.betas\n",
    "gamma = ring_cut_inst.gammas\n",
    "# form new beta/gamma angles from the old angles\n",
    "betas = np.hstack((beta[0]/3, beta[0]*2/3))\n",
    "gammas = np.hstack((gamma[0]/3, gamma[0]*2/3))\n",
    "# set up a new QAOA instance.\n",
    "with local_forest_runtime():\n",
    "    qvm = get_qc('6q-qvm')\n",
    "    ring_cut_inst_2 = QAOA(qvm, range(len(graph.nodes())), steps=2, ref_ham=driver_operators, cost_ham=cost_operators,\n",
    "                         driver_ref=prog, store_basis=True, init_betas=list(betas), init_gammas=list(gammas))\n",
    "# run VQE to determine the optimal angles\n",
    "betas, gammas = ring_cut_inst_2.get_angles()\n",
    "t = np.hstack((betas, gammas))\n",
    "probs = ring_cut_inst_2.probabilities(t)\n",
    "plot(ring_cut_inst_2, probs)"
   ]
  },
  {
   "cell_type": "markdown",
   "metadata": {},
   "source": [
    "We could also change the optimizer which is passed down to VQE through the QAOA interface.  Let's say I want to use BFGS or another optimizer that can be wrapped in python.  Simply pass it to `QAOA` through the `minimzer`, `minimizer_args`, and `minimizer_kwargs` keywords"
   ]
  },
  {
   "cell_type": "code",
   "execution_count": 17,
   "metadata": {
    "scrolled": true
   },
   "outputs": [
    {
     "name": "stderr",
     "output_type": "stream",
     "text": [
      "/home/apolloreno/anaconda3/envs/estuary/lib/python3.7/site-packages/pyquil/api/_quantum_computer.py:884: RuntimeWarning: Unable to start qvm server, since the specified port 5000 is in use.\n",
      "  warnings.warn(RuntimeWarning(warning_msg))\n",
      "/home/apolloreno/anaconda3/envs/estuary/lib/python3.7/site-packages/pyquil/api/_compiler.py:324: UserWarning: No quilc server running at tcp://127.0.0.1:5555. Compilation using quilc will not be available.\n",
      "  warnings.warn(f'{e}. Compilation using quilc will not be available.')\n"
     ]
    },
    {
     "name": "stdout",
     "output_type": "stream",
     "text": [
      "WARNING: Fast method for expectation will be used. Noise\n",
      "                     models will be ineffective\n",
      "Optimization terminated successfully.\n",
      "         Current function value: 7.500000\n",
      "         Iterations: 14\n",
      "         Function evaluations: 176\n",
      "         Gradient evaluations: 22\n"
     ]
    },
    {
     "data": {
      "image/png": "[encoded data removed]",
      "text/plain": [
       "<Figure size 432x288 with 1 Axes>"
      ]
     },
     "metadata": {
      "needs_background": "light"
     },
     "output_type": "display_data"
    }
   ],
   "source": [
    "from scipy.optimize import fmin_bfgs\n",
    "\n",
    "with local_forest_runtime():\n",
    "    qvm = get_qc('6q-qvm')\n",
    "    ring_cut_inst_3 = QAOA(qvm, range(len(graph.nodes())), steps=3, ref_ham=driver_operators, cost_ham=cost_operators,\n",
    "                           driver_ref=prog, store_basis=True, minimizer=fmin_bfgs, minimizer_kwargs={'gtol':1.0e-3},\n",
    "                           rand_seed=42)\n",
    "    betas, gammas = ring_cut_inst_3.get_angles()\n",
    "    t = np.hstack((betas, gammas))\n",
    "    probs = ring_cut_inst_3.probabilities(t)\n",
    "    plot(ring_cut_inst_3, probs)"
   ]
  },
  {
   "cell_type": "markdown",
   "metadata": {},
   "source": [
    "# Let's generate a random (but seeded) k regular graph."
   ]
  },
  {
   "cell_type": "markdown",
   "metadata": {},
   "source": [
    "The most popular method to date was first proposed by Bollobás [2], and is called the pairing model (though it is also sometimes referred to as the configuration model). The algorithm itself is simple:\n",
    "\n",
    "Begin with a set of n vertices.\n",
    "\n",
    "Create a new set of nk points, distributing them across n buckets, such that each bucket contains k points.\n",
    "\n",
    "Take each point and pair it randomly with another one, until ½nk pairs are obtained (i.e., a perfect matching).\n",
    "\n",
    "Collapse the points, so that each bucket (and thus the points it contains) maps onto a single vertex of the original graph. Retain all edges between points as the edges of the corresponding vertices.\n",
    "\n",
    "Check if the resulting graph is simple. That is to say, make sure that none of the vertices have loops (i.e., self-connections) or multiple edges (i.e., more than one connection to the same vertex). If the graph is not simple, restart.\n",
    "\n",
    "Algorithm taken from: https://egtheory.wordpress.com/2012/03/29/random-regular-graphs/"
   ]
  },
  {
   "cell_type": "code",
   "execution_count": 15,
   "metadata": {
    "scrolled": false
   },
   "outputs": [
    {
     "data": {
      "image/png": "[encoded data removed]",
      "text/plain": [
       "<Figure size 432x288 with 1 Axes>"
      ]
     },
     "metadata": {},
     "output_type": "display_data"
    }
   ],
   "source": [
    "import numpy as np\n",
    "seed = 137\n",
    "np.random.seed(seed)\n",
    "k = 4\n",
    "num_vertices = 12\n",
    "n_qubits = num_vertices\n",
    "def make_graph_instance(num_vertices, k):\n",
    "    node_edges = [[i,j] for i in range(num_vertices) for j in range(k)]\n",
    "    pairs = []\n",
    "    while len(node_edges) > 0:\n",
    "        el_1 = node_edges.pop(np.random.randint(len(node_edges)))\n",
    "        el_2 = node_edges.pop(np.random.randint(len(node_edges)))\n",
    "        pairs.append((el_1, el_2))\n",
    "    edges = [(pair[0][0], pair[1][0]) for pair in pairs]\n",
    "    return edges\n",
    "\n",
    "def make_simple_graph(num_vertices, k):\n",
    "    simple = True\n",
    "    edges = make_graph_instance(num_vertices, k)\n",
    "    for edge in edges:\n",
    "        if edge[0] == edge[1]:\n",
    "            simple = False\n",
    "            break\n",
    "    if simple:\n",
    "        return edges\n",
    "    else:\n",
    "        return make_simple_graph(num_vertices, k)\n",
    "        \n",
    "edges = make_simple_graph(num_vertices, k)\n",
    "graph = nx.Graph()\n",
    "for edge in edges:\n",
    "    graph.add_edge(*edge)\n",
    "nx.draw_circular(graph, node_color=\"#6CAFB7\")"
   ]
  },
  {
   "cell_type": "code",
   "execution_count": 16,
   "metadata": {},
   "outputs": [],
   "source": [
    "cost_operators = []\n",
    "driver_operators = []\n",
    "for i, j in graph.edges():\n",
    "    cost_operators.append(PauliTerm(\"Z\", i, 0.5)*PauliTerm(\"Z\", j) + PauliTerm(\"I\", 0, -0.5))\n",
    "for i in graph.nodes():\n",
    "    driver_operators.append(PauliSum([PauliTerm(\"X\", i, 1.0)]))"
   ]
  },
  {
   "cell_type": "code",
   "execution_count": 17,
   "metadata": {},
   "outputs": [],
   "source": [
    "prog = pq.Program()\n",
    "for i in graph.nodes():\n",
    "    prog.inst(H(i))"
   ]
  },
  {
   "cell_type": "code",
   "execution_count": 18,
   "metadata": {},
   "outputs": [],
   "source": [
    "# Be careful, I think there is a reference to an external variable floating around with the ring cut instance.\n",
    "from pyquil.api import local_forest_runtime\n",
    "from pyquil import get_qc, Program\n",
    "def k_regular_maxcut_with_particular_p(p):\n",
    "    with local_forest_runtime():\n",
    "        qvm = get_qc(f'{num_vertices}q-qvm')\n",
    "        cut_inst = QAOA(qvm, range(len(graph.nodes())), steps=p, ref_ham=driver_operators, cost_ham=cost_operators,\n",
    "                        driver_ref=prog, store_basis=True, rand_seed=42)\n",
    "    betas, gammas = cut_inst.get_angles()\n",
    "    from collections import Counter\n",
    "\n",
    "    # get the parameterized program\n",
    "    param_prog = cut_inst.get_parameterized_program()\n",
    "    sampling_prog = param_prog(np.hstack((betas, gammas)))\n",
    "\n",
    "    # use the run_and_measure QVM API to prepare a circuit and then measure on the qubits\n",
    "    with local_forest_runtime():\n",
    "        qvm = get_qc(f'{num_vertices}q-qvm')\n",
    "        bitstring_samples = qvm.run_and_measure(sampling_prog, 1000)\n",
    "        shots = np.array([bitstring_samples[qubit] for qubit in sorted(bitstring_samples)]).T\n",
    "        bitstring_tuples = map(tuple, shots)\n",
    "\n",
    "    # aggregate the statistics\n",
    "    freq = Counter(bitstring_tuples)\n",
    "    most_frequent_bit_string = max(freq, key=lambda x: freq[x])\n",
    "    print(\"The most frequently sampled string is \", most_frequent_bit_string)\n",
    "    n_qubits = graph.number_of_nodes()\n",
    "    t = np.hstack((betas, gammas))\n",
    "    probs = cut_inst.probabilities(t)\n",
    "    plot(cut_inst, probs)\n",
    "    return most_frequent_bit_string"
   ]
  },
  {
   "cell_type": "code",
   "execution_count": 19,
   "metadata": {
    "scrolled": false
   },
   "outputs": [
    {
     "name": "stderr",
     "output_type": "stream",
     "text": [
      "/home/apolloreno/anaconda3/envs/estuary/lib/python3.7/site-packages/pyquil/api/_quantum_computer.py:884: RuntimeWarning: Unable to start qvm server, since the specified port 5000 is in use.\n",
      "  warnings.warn(RuntimeWarning(warning_msg))\n"
     ]
    },
    {
     "name": "stdout",
     "output_type": "stream",
     "text": [
      "WARNING: Fast method for expectation will be used. Noise\n",
      "                     models will be ineffective\n",
      "Optimization terminated successfully.\n",
      "         Current function value: 98.315049\n",
      "         Iterations: 15\n",
      "         Function evaluations: 29\n"
     ]
    },
    {
     "name": "stderr",
     "output_type": "stream",
     "text": [
      "/home/apolloreno/anaconda3/envs/estuary/lib/python3.7/site-packages/pyquil/api/_quantum_computer.py:884: RuntimeWarning: Unable to start qvm server, since the specified port 5000 is in use.\n",
      "  warnings.warn(RuntimeWarning(warning_msg))\n"
     ]
    },
    {
     "name": "stdout",
     "output_type": "stream",
     "text": [
      "The most frequently sampled string is  (1, 1, 1, 1, 0, 0, 0, 1, 1, 0, 0, 0)\n"
     ]
    },
    {
     "data": {
      "image/png": "[encoded data removed]",
      "text/plain": [
       "<Figure size 432x288 with 1 Axes>"
      ]
     },
     "metadata": {
      "needs_background": "light"
     },
     "output_type": "display_data"
    }
   ],
   "source": [
    "cut = k_regular_maxcut_with_particular_p(1)"
   ]
  },
  {
   "cell_type": "code",
   "execution_count": 20,
   "metadata": {},
   "outputs": [
    {
     "data": {
      "text/plain": [
       "18"
      ]
     },
     "execution_count": 20,
     "metadata": {},
     "output_type": "execute_result"
    }
   ],
   "source": [
    "from networkx.algorithms.cuts import cut_size\n",
    "def cut_to_cut_set(cut):\n",
    "    cut_set = []\n",
    "    for i, node in enumerate(cut):\n",
    "        if node == 1:\n",
    "            cut_set.append(i)\n",
    "    cut_size(graph, cut_set)\n",
    "    return cut_set\n",
    "cut_size(graph, cut_to_cut_set(cut))"
   ]
  },
  {
   "cell_type": "code",
   "execution_count": 24,
   "metadata": {
    "scrolled": true
   },
   "outputs": [],
   "source": [
    "max_cut = 0\n",
    "for cut_string in range(2**graph.number_of_nodes()):\n",
    "    cut_string = list([int(s) for s in bin(cut_string)[2:]])\n",
    "    prepend = [0 for _ in range(graph.number_of_nodes() - len(cut_string))]\n",
    "    cut_string = prepend + cut_string\n",
    "    max_cut = max(max_cut, cut_size(graph, cut_to_cut_set(cut_string)))"
   ]
  },
  {
   "cell_type": "code",
   "execution_count": null,
   "metadata": {},
   "outputs": [],
   "source": []
  }
 ],
 "metadata": {
  "anaconda-cloud": {},
  "kernelspec": {
   "display_name": "Python 3",
   "language": "python",
   "name": "python3"
  },
  "language_info": {
   "codemirror_mode": {
    "name": "ipython",
    "version": 3
   },
   "file_extension": ".py",
   "mimetype": "text/x-python",
   "name": "python",
   "nbconvert_exporter": "python",
   "pygments_lexer": "ipython3",
   "version": "3.7.3"
  }
 },
 "nbformat": 4,
 "nbformat_minor": 1
}
